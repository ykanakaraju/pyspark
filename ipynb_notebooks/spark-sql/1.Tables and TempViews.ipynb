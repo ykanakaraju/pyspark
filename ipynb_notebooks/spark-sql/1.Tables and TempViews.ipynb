{
 "cells": [
  {
   "cell_type": "code",
   "execution_count": null,
   "metadata": {},
   "outputs": [],
   "source": [
    "%run \"./Setup.ipynb\""
   ]
  },
  {
   "cell_type": "code",
   "execution_count": null,
   "metadata": {},
   "outputs": [],
   "source": [
    "inputPath = \"E:\\\\PySpark\\\\data\\\\users.json\""
   ]
  },
  {
   "cell_type": "code",
   "execution_count": null,
   "metadata": {},
   "outputs": [],
   "source": [
    "from pyspark.sql.functions import *"
   ]
  },
  {
   "cell_type": "code",
   "execution_count": null,
   "metadata": {},
   "outputs": [],
   "source": [
    "df1 = spark.read.json(inputPath)\n",
    "df1.show()"
   ]
  },
  {
   "cell_type": "code",
   "execution_count": null,
   "metadata": {},
   "outputs": [],
   "source": [
    "df1.createOrReplaceTempView(\"users\")"
   ]
  },
  {
   "cell_type": "code",
   "execution_count": null,
   "metadata": {},
   "outputs": [],
   "source": [
    "spark.catalog.listTables()"
   ]
  },
  {
   "cell_type": "code",
   "execution_count": null,
   "metadata": {},
   "outputs": [],
   "source": [
    "qry = \"\"\"select age, count(1) as count\n",
    "        from users\n",
    "        where age is not null\n",
    "        group by age\n",
    "        order by count\n",
    "        limit 5\"\"\"\n",
    "\n",
    "df2 = spark.sql(qry)\n",
    "\n",
    "df2.show()"
   ]
  },
  {
   "cell_type": "markdown",
   "metadata": {},
   "source": [
    "%md\n",
    "#### GlobalTempViews"
   ]
  },
  {
   "cell_type": "code",
   "execution_count": null,
   "metadata": {},
   "outputs": [],
   "source": [
    "df1.createOrReplaceGlobalTempView(\"gusers\")"
   ]
  },
  {
   "cell_type": "code",
   "execution_count": null,
   "metadata": {},
   "outputs": [],
   "source": [
    "spark.catalog.listTables(\"global_temp\")"
   ]
  },
  {
   "cell_type": "code",
   "execution_count": null,
   "metadata": {},
   "outputs": [],
   "source": [
    "spark.catalog.currentDatabase()"
   ]
  },
  {
   "cell_type": "code",
   "execution_count": null,
   "metadata": {},
   "outputs": [],
   "source": [
    "qry2 = \"\"\"select age, count(1) as count\n",
    "        from global_temp.gusers\n",
    "        where age is not null\n",
    "        group by age\n",
    "        order by count\n",
    "        limit 5\"\"\"\n",
    "\n",
    "df3 = spark.sql(qry2)\n",
    "\n",
    "df3.show()"
   ]
  },
  {
   "cell_type": "markdown",
   "metadata": {},
   "source": [
    "#### Create a new session"
   ]
  },
  {
   "cell_type": "code",
   "execution_count": null,
   "metadata": {},
   "outputs": [],
   "source": [
    "spark2 = spark.newSession()"
   ]
  },
  {
   "cell_type": "code",
   "execution_count": null,
   "metadata": {},
   "outputs": [],
   "source": [
    "spark2.catalog.listTables()"
   ]
  },
  {
   "cell_type": "code",
   "execution_count": null,
   "metadata": {},
   "outputs": [],
   "source": [
    "spark.catalog.listTables()"
   ]
  },
  {
   "cell_type": "code",
   "execution_count": null,
   "metadata": {},
   "outputs": [],
   "source": [
    "print(qry2)"
   ]
  },
  {
   "cell_type": "code",
   "execution_count": null,
   "metadata": {},
   "outputs": [],
   "source": [
    "df3 = spark2.sql(qry2)\n",
    "\n",
    "df3.show()"
   ]
  },
  {
   "cell_type": "markdown",
   "metadata": {},
   "source": [
    "#### Saving to tables"
   ]
  },
  {
   "cell_type": "code",
   "execution_count": null,
   "metadata": {},
   "outputs": [],
   "source": [
    "df2 = df1.where(\"phone is not null\") \\\n",
    "        .select(\"userid\", \"name\", \"gender\", \"age\", \"phone\")\n",
    "    \n",
    "df2.show()"
   ]
  },
  {
   "cell_type": "code",
   "execution_count": null,
   "metadata": {},
   "outputs": [],
   "source": [
    "spark.catalog.currentDatabase()"
   ]
  },
  {
   "cell_type": "code",
   "execution_count": null,
   "metadata": {},
   "outputs": [],
   "source": [
    "spark.conf.get(\"spark.sql.warehouse.dir\")"
   ]
  },
  {
   "cell_type": "code",
   "execution_count": null,
   "metadata": {},
   "outputs": [],
   "source": [
    "df2.write.format(\"json\").saveAsTable(\"users_json\")"
   ]
  },
  {
   "cell_type": "code",
   "execution_count": 22,
   "metadata": {},
   "outputs": [
    {
     "data": {
      "text/plain": [
       "[Table(name='users_csv', database='default', description=None, tableType='MANAGED', isTemporary=False),\n",
       " Table(name='users_csv_ext', database='default', description=None, tableType='EXTERNAL', isTemporary=False),\n",
       " Table(name='users_csv_partitoned', database='default', description=None, tableType='MANAGED', isTemporary=False),\n",
       " Table(name='users_json', database='default', description=None, tableType='MANAGED', isTemporary=False)]"
      ]
     },
     "execution_count": 22,
     "metadata": {},
     "output_type": "execute_result"
    }
   ],
   "source": [
    "spark.catalog.listTables()"
   ]
  },
  {
   "cell_type": "code",
   "execution_count": null,
   "metadata": {},
   "outputs": [],
   "source": [
    "spark.sql(\"select * from users_json where age > 20\").show()"
   ]
  },
  {
   "cell_type": "code",
   "execution_count": null,
   "metadata": {},
   "outputs": [],
   "source": [
    "df2.write.format(\"csv\").option(\"header\", \"true\").saveAsTable(\"users_csv\")"
   ]
  },
  {
   "cell_type": "code",
   "execution_count": 25,
   "metadata": {},
   "outputs": [
    {
     "name": "stdout",
     "output_type": "stream",
     "text": [
      "+------+------+------+---+----------+\n",
      "|userid|  name|gender|age|     phone|\n",
      "+------+------+------+---+----------+\n",
      "|     1| Satya|  Male| 25|8501099876|\n",
      "|     4|Sandra|Female| 28|8508899001|\n",
      "|     7| Steve|  Male| 28|8501085009|\n",
      "|     8|Smriti|Female| 55|9246655498|\n",
      "|     9| Veena|Female| 36|8508888888|\n",
      "|    12| Raghu|  Male| 28|8501082222|\n",
      "|    13| Ramya|Female| 55|9246654658|\n",
      "|    14|Hasina|Female| 31|8345213235|\n",
      "|    17|Mukesh|  Male| 31|8597638421|\n",
      "+------+------+------+---+----------+\n",
      "\n"
     ]
    }
   ],
   "source": [
    "spark.sql(\"select * from users_csv where age > 20\").show()"
   ]
  },
  {
   "cell_type": "code",
   "execution_count": null,
   "metadata": {},
   "outputs": [],
   "source": [
    "df2 \\\n",
    ".write \\\n",
    ".format(\"csv\") \\\n",
    ".option(\"header\", \"true\") \\\n",
    ".option(\"path\", \"E:\\\\PySpark\\\\external\\\\users_csv_ext\") \\\n",
    ".saveAsTable(\"users_csv_ext\")"
   ]
  },
  {
   "cell_type": "code",
   "execution_count": null,
   "metadata": {},
   "outputs": [],
   "source": [
    "df2 \\\n",
    ".write \\\n",
    ".format(\"csv\") \\\n",
    ".option(\"header\", \"true\") \\\n",
    ".partitionBy(\"gender\") \\\n",
    ".saveAsTable(\"users_csv_partitoned\")"
   ]
  },
  {
   "cell_type": "code",
   "execution_count": 24,
   "metadata": {},
   "outputs": [
    {
     "name": "stdout",
     "output_type": "stream",
     "text": [
      "+------+-------+----+----------+------+\n",
      "|userid|   name| age|     phone|gender|\n",
      "+------+-------+----+----------+------+\n",
      "|     1|  Satya|  25|8501099876|  Male|\n",
      "|     2|   null|null|5676599876|  Male|\n",
      "|     6| Sundar|  13|8522233456|  Male|\n",
      "|     7|  Steve|  28|8501085009|  Male|\n",
      "|    11| Samuel|  13|8522235624|  Male|\n",
      "|    12|  Raghu|  28|8501082222|  Male|\n",
      "|    16|Murugan|  13|8522209563|  Male|\n",
      "|    17| Mukesh|  31|8597638421|  Male|\n",
      "|     4| Sandra|  28|8508899001|Female|\n",
      "|     8| Smriti|  55|9246655498|Female|\n",
      "|     9|  Veena|  36|8508888888|Female|\n",
      "|    13|  Ramya|  55|9246654658|Female|\n",
      "|    14| Hasina|  31|8345213235|Female|\n",
      "+------+-------+----+----------+------+\n",
      "\n"
     ]
    }
   ],
   "source": [
    "spark.sql(\"SELECT * FROM users_csv_partitoned\").show()"
   ]
  },
  {
   "cell_type": "code",
   "execution_count": null,
   "metadata": {},
   "outputs": [],
   "source": []
  }
 ],
 "metadata": {
  "kernelspec": {
   "display_name": "Python 3",
   "language": "python",
   "name": "python3"
  },
  "language_info": {
   "codemirror_mode": {
    "name": "ipython",
    "version": 3
   },
   "file_extension": ".py",
   "mimetype": "text/x-python",
   "name": "python",
   "nbconvert_exporter": "python",
   "pygments_lexer": "ipython3",
   "version": "3.6.4"
  }
 },
 "nbformat": 4,
 "nbformat_minor": 2
}
