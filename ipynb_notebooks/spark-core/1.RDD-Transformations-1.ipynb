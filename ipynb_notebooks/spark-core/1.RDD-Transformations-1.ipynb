{
 "cells": [
  {
   "cell_type": "markdown",
   "metadata": {
    "application/vnd.databricks.v1+cell": {
     "cellMetadata": {},
     "inputWidgets": {},
     "nuid": "7b8f6973-6266-4c3f-8be4-a55048f66e11",
     "showTitle": false,
     "tableResultSettingsMap": {},
     "title": ""
    }
   },
   "source": [
    "### RDD Transformations - Narrow Transformations\n",
    "\n",
    "- map\n",
    "- filter\n",
    "- glom\n",
    "- mapPartitions\n",
    "- mapValues\n",
    "- flatMap"
   ]
  },
  {
   "cell_type": "code",
   "execution_count": 1,
   "metadata": {
    "application/vnd.databricks.v1+cell": {
     "cellMetadata": {
      "byteLimit": 2048000,
      "rowLimit": 10000
     },
     "inputWidgets": {},
     "nuid": "da2a8383-3eb2-4785-bbc6-8f053e88604a",
     "showTitle": false,
     "tableResultSettingsMap": {},
     "title": ""
    }
   },
   "outputs": [],
   "source": [
    "%run \"0.RDD-Sample-Data.ipynb\""
   ]
  },
  {
   "cell_type": "code",
   "execution_count": null,
   "metadata": {
    "application/vnd.databricks.v1+cell": {
     "cellMetadata": {
      "byteLimit": 2048000,
      "rowLimit": 10000
     },
     "inputWidgets": {},
     "nuid": "a74dc004-e6dc-402b-a82f-6c2275f2e559",
     "showTitle": false,
     "tableResultSettingsMap": {},
     "title": ""
    }
   },
   "outputs": [],
   "source": [
    "rddFile.collect()"
   ]
  },
  {
   "cell_type": "code",
   "execution_count": null,
   "metadata": {
    "application/vnd.databricks.v1+cell": {
     "cellMetadata": {
      "byteLimit": 2048000,
      "rowLimit": 10000
     },
     "inputWidgets": {},
     "nuid": "64717e6b-8619-4f1e-8fcd-c43b42e711bc",
     "showTitle": false,
     "tableResultSettingsMap": {},
     "title": ""
    }
   },
   "outputs": [],
   "source": [
    "rdd1.collect()"
   ]
  },
  {
   "cell_type": "code",
   "execution_count": null,
   "metadata": {
    "application/vnd.databricks.v1+cell": {
     "cellMetadata": {
      "byteLimit": 2048000,
      "rowLimit": 10000
     },
     "inputWidgets": {},
     "nuid": "067888a3-c55d-42ca-a4f9-9e793c86657f",
     "showTitle": false,
     "tableResultSettingsMap": {},
     "title": ""
    }
   },
   "outputs": [],
   "source": [
    "rdd2.collect()"
   ]
  },
  {
   "cell_type": "code",
   "execution_count": null,
   "metadata": {
    "application/vnd.databricks.v1+cell": {
     "cellMetadata": {
      "byteLimit": 2048000,
      "rowLimit": 10000
     },
     "inputWidgets": {},
     "nuid": "513af2f6-7e3c-4b95-ace6-ade2a5589370",
     "showTitle": false,
     "tableResultSettingsMap": {},
     "title": ""
    }
   },
   "outputs": [],
   "source": [
    "rddWords.collect()"
   ]
  },
  {
   "cell_type": "markdown",
   "metadata": {
    "application/vnd.databricks.v1+cell": {
     "cellMetadata": {},
     "inputWidgets": {},
     "nuid": "365a620d-a66a-46c0-9967-82355e1ec5d8",
     "showTitle": false,
     "tableResultSettingsMap": {},
     "title": ""
    }
   },
   "source": [
    "**map**"
   ]
  },
  {
   "cell_type": "code",
   "execution_count": null,
   "metadata": {},
   "outputs": [],
   "source": [
    "rdd1.collect()"
   ]
  },
  {
   "cell_type": "code",
   "execution_count": null,
   "metadata": {
    "application/vnd.databricks.v1+cell": {
     "cellMetadata": {
      "byteLimit": 2048000,
      "rowLimit": 10000
     },
     "inputWidgets": {},
     "nuid": "9b642c74-4f2c-428c-8af3-c0e0b608fd4c",
     "showTitle": false,
     "tableResultSettingsMap": {},
     "title": ""
    }
   },
   "outputs": [],
   "source": [
    "#rdd3 = rdd1.map(lambda x: x*10)\n",
    "rdd3 = rdd1.map(lambda x: (x, x))\n",
    "rdd3.collect()"
   ]
  },
  {
   "cell_type": "code",
   "execution_count": null,
   "metadata": {
    "application/vnd.databricks.v1+cell": {
     "cellMetadata": {
      "byteLimit": 2048000,
      "rowLimit": 10000
     },
     "inputWidgets": {},
     "nuid": "74dc648d-51c0-4900-bac7-d5d1af8be849",
     "showTitle": false,
     "tableResultSettingsMap": {},
     "title": ""
    }
   },
   "outputs": [],
   "source": [
    "rddFile.collect()"
   ]
  },
  {
   "cell_type": "code",
   "execution_count": null,
   "metadata": {},
   "outputs": [],
   "source": [
    "#rddWords.map(lambda x: x.upper()).collect()\n",
    "#rddFile.map(len).collect()\n",
    "rddFile.map(lambda x: len(x.split())).collect()"
   ]
  },
  {
   "cell_type": "code",
   "execution_count": null,
   "metadata": {},
   "outputs": [],
   "source": [
    "rdd2.collect()"
   ]
  },
  {
   "cell_type": "code",
   "execution_count": null,
   "metadata": {},
   "outputs": [],
   "source": [
    "rdd3 = rdd2.map(lambda p: (p[0], (p[0], p[1])))\n",
    "#rdd3.collect()\n",
    "\n",
    "rdd4 = rdd3.map(lambda p: (p[0], p[1][0] * p[1][1]))\n",
    "rdd4.collect()"
   ]
  },
  {
   "cell_type": "markdown",
   "metadata": {
    "application/vnd.databricks.v1+cell": {
     "cellMetadata": {},
     "inputWidgets": {},
     "nuid": "48145198-3935-4a08-b803-05c7910a63d2",
     "showTitle": false,
     "tableResultSettingsMap": {},
     "title": ""
    }
   },
   "source": [
    "**filter**\n",
    "\n",
    "- P: U -> Boolean"
   ]
  },
  {
   "cell_type": "code",
   "execution_count": null,
   "metadata": {},
   "outputs": [],
   "source": [
    "rdd1.filter(lambda x: x%2 == 0).collect()"
   ]
  },
  {
   "cell_type": "code",
   "execution_count": null,
   "metadata": {
    "application/vnd.databricks.v1+cell": {
     "cellMetadata": {},
     "inputWidgets": {},
     "nuid": "da466787-1444-4460-9ec8-d33b485111e1",
     "showTitle": false,
     "tableResultSettingsMap": {},
     "title": ""
    }
   },
   "outputs": [],
   "source": [
    "rdd3.collect()"
   ]
  },
  {
   "cell_type": "code",
   "execution_count": null,
   "metadata": {
    "application/vnd.databricks.v1+cell": {
     "cellMetadata": {
      "byteLimit": 2048000,
      "rowLimit": 10000
     },
     "inputWidgets": {},
     "nuid": "fdb18666-1da3-45ce-9c85-320a07e7c0ba",
     "showTitle": false,
     "tableResultSettingsMap": {},
     "title": ""
    }
   },
   "outputs": [],
   "source": [
    "rdd3.filter(lambda p: sum(p[1]) > 6).collect()"
   ]
  },
  {
   "cell_type": "code",
   "execution_count": null,
   "metadata": {},
   "outputs": [],
   "source": [
    "rddFile.filter(lambda x: len(x.split()) > 8).collect()"
   ]
  },
  {
   "cell_type": "markdown",
   "metadata": {
    "application/vnd.databricks.v1+cell": {
     "cellMetadata": {},
     "inputWidgets": {},
     "nuid": "5a500994-fced-4120-ac51-d90648c3e138",
     "showTitle": false,
     "tableResultSettingsMap": {},
     "title": ""
    }
   },
   "source": [
    "**glom** \n",
    "- Returns one list object per partition with the content of entire partition."
   ]
  },
  {
   "cell_type": "code",
   "execution_count": null,
   "metadata": {
    "application/vnd.databricks.v1+cell": {
     "cellMetadata": {
      "byteLimit": 2048000,
      "rowLimit": 10000
     },
     "inputWidgets": {},
     "nuid": "4198b968-3109-44c7-bcad-112e9e1ccba2",
     "showTitle": false,
     "tableResultSettingsMap": {},
     "title": ""
    }
   },
   "outputs": [],
   "source": [
    "rdd1.getNumPartitions()"
   ]
  },
  {
   "cell_type": "code",
   "execution_count": null,
   "metadata": {
    "application/vnd.databricks.v1+cell": {
     "cellMetadata": {
      "byteLimit": 2048000,
      "rowLimit": 10000
     },
     "inputWidgets": {},
     "nuid": "70f8ab0b-fe73-4a03-ace1-404a2def9488",
     "showTitle": false,
     "tableResultSettingsMap": {},
     "title": ""
    }
   },
   "outputs": [],
   "source": [
    "rdd1.collect()"
   ]
  },
  {
   "cell_type": "code",
   "execution_count": null,
   "metadata": {},
   "outputs": [],
   "source": [
    "rdd1.glom().collect()"
   ]
  },
  {
   "cell_type": "code",
   "execution_count": null,
   "metadata": {},
   "outputs": [],
   "source": [
    "rdd1.glom().map(len).collect()"
   ]
  },
  {
   "cell_type": "code",
   "execution_count": null,
   "metadata": {},
   "outputs": [],
   "source": [
    "rdd1.glom().map(sum).collect()"
   ]
  },
  {
   "cell_type": "markdown",
   "metadata": {
    "application/vnd.databricks.v1+cell": {
     "cellMetadata": {},
     "inputWidgets": {},
     "nuid": "1520315c-d8eb-43ef-bcb3-6ff3fbd6a649",
     "showTitle": false,
     "tableResultSettingsMap": {},
     "title": ""
    }
   },
   "source": [
    "**mapPartitions**\n",
    "\n",
    "mapPartititons transformation transforms and entire input Partition to output Partition by applying a function.\n",
    "\n",
    "- P:  Iterable[U] -> Iterable[V]"
   ]
  },
  {
   "cell_type": "code",
   "execution_count": null,
   "metadata": {
    "application/vnd.databricks.v1+cell": {
     "cellMetadata": {},
     "inputWidgets": {},
     "nuid": "a721a045-1335-4dd3-8d4b-53d2137ec92c",
     "showTitle": false,
     "tableResultSettingsMap": {},
     "title": ""
    }
   },
   "outputs": [],
   "source": [
    "rdd1.glom().collect()"
   ]
  },
  {
   "cell_type": "code",
   "execution_count": null,
   "metadata": {
    "application/vnd.databricks.v1+cell": {
     "cellMetadata": {},
     "inputWidgets": {},
     "nuid": "5f47d5d6-d7e9-4dc1-a35a-08d16e339d07",
     "showTitle": false,
     "tableResultSettingsMap": {},
     "title": ""
    }
   },
   "outputs": [],
   "source": [
    "rdd1.mapPartitions(lambda p: [sum(p)]).collect()"
   ]
  },
  {
   "cell_type": "code",
   "execution_count": null,
   "metadata": {
    "application/vnd.databricks.v1+cell": {
     "cellMetadata": {},
     "inputWidgets": {},
     "nuid": "a287368c-beef-4f08-9ed1-9f661a1dc71f",
     "showTitle": false,
     "tableResultSettingsMap": {},
     "title": ""
    }
   },
   "outputs": [],
   "source": [
    "rdd1.mapPartitions(lambda p: map(lambda x: x*10, p) ).glom().collect()"
   ]
  },
  {
   "cell_type": "markdown",
   "metadata": {
    "application/vnd.databricks.v1+cell": {
     "cellMetadata": {},
     "inputWidgets": {},
     "nuid": "5c694c18-acd1-43fe-a529-f1bd052675f7",
     "showTitle": false,
     "tableResultSettingsMap": {},
     "title": ""
    }
   },
   "source": [
    "**flatMap**\n",
    "\n",
    "funtion type: U -> Iterable[V]\n",
    "\n",
    "flattens the output produced by the function"
   ]
  },
  {
   "cell_type": "code",
   "execution_count": null,
   "metadata": {
    "application/vnd.databricks.v1+cell": {
     "cellMetadata": {
      "byteLimit": 2048000,
      "rowLimit": 10000
     },
     "inputWidgets": {},
     "nuid": "05a8633c-10bc-432b-b056-2140ca31fb7f",
     "showTitle": false,
     "tableResultSettingsMap": {},
     "title": ""
    }
   },
   "outputs": [],
   "source": [
    "rdd1.collect()"
   ]
  },
  {
   "cell_type": "code",
   "execution_count": null,
   "metadata": {
    "application/vnd.databricks.v1+cell": {
     "cellMetadata": {},
     "inputWidgets": {},
     "nuid": "b51a4da6-e056-4f6f-8ae5-932a78341a7f",
     "showTitle": false,
     "tableResultSettingsMap": {},
     "title": ""
    }
   },
   "outputs": [],
   "source": [
    "rdd1.flatMap(lambda x: [x, x*10]).collect()"
   ]
  },
  {
   "cell_type": "code",
   "execution_count": null,
   "metadata": {},
   "outputs": [],
   "source": [
    "rddFile.flatMap(lambda x: x.split()).collect()\n",
    "#rddFile.flatMap(lambda x: len(x.split())).collect()"
   ]
  },
  {
   "cell_type": "code",
   "execution_count": null,
   "metadata": {},
   "outputs": [],
   "source": [
    "rdd2.flatMap(lambda x: x).collect()"
   ]
  },
  {
   "cell_type": "code",
   "execution_count": null,
   "metadata": {},
   "outputs": [],
   "source": [
    "rddWords.flatMap(lambda x: x.upper()).collect()"
   ]
  },
  {
   "cell_type": "markdown",
   "metadata": {
    "application/vnd.databricks.v1+cell": {
     "cellMetadata": {},
     "inputWidgets": {},
     "nuid": "236c25a0-a6d1-462d-a6e9-190d8cd8bba8",
     "showTitle": false,
     "tableResultSettingsMap": {},
     "title": ""
    }
   },
   "source": [
    "**mapValues**\n",
    "\n",
    "- Applied only on Pair RDD\n",
    "- Transforms only the 'value' part of the (K, V) pairs by applying the function"
   ]
  },
  {
   "cell_type": "code",
   "execution_count": null,
   "metadata": {},
   "outputs": [],
   "source": [
    "rdd2.collect()"
   ]
  },
  {
   "cell_type": "code",
   "execution_count": null,
   "metadata": {
    "application/vnd.databricks.v1+cell": {
     "cellMetadata": {
      "byteLimit": 2048000,
      "rowLimit": 10000
     },
     "inputWidgets": {},
     "nuid": "07b3b7b7-d5cf-4317-b767-b2601d8941ff",
     "showTitle": false,
     "tableResultSettingsMap": {},
     "title": ""
    }
   },
   "outputs": [],
   "source": [
    "#rdd3 = rdd2.mapValues(lambda x: x*10)\n",
    "rdd3 = rdd2.mapValues(lambda x: (x%4, x*5))\n",
    "rdd3.collect()"
   ]
  },
  {
   "cell_type": "code",
   "execution_count": null,
   "metadata": {
    "application/vnd.databricks.v1+cell": {
     "cellMetadata": {
      "byteLimit": 2048000,
      "rowLimit": 10000
     },
     "inputWidgets": {},
     "nuid": "33e7c026-a426-48bd-9f05-61528c7ebac1",
     "showTitle": false,
     "tableResultSettingsMap": {},
     "title": ""
    }
   },
   "outputs": [],
   "source": [
    "#rdd3.mapValues(list).collect()\n",
    "rdd3.mapValues(sum).collect()"
   ]
  },
  {
   "cell_type": "markdown",
   "metadata": {},
   "source": [
    "### Narrow transformations"
   ]
  },
  {
   "cell_type": "code",
   "execution_count": 26,
   "metadata": {},
   "outputs": [
    {
     "data": {
      "text/plain": [
       "[[3, 4, 5, 6, 3, 2, 1, 4, 3, 5],\n",
       " [6, 7, 8, 9, 0, 8, 9, 0, 8, 9],\n",
       " [0, 3, 4, 2, 1, 3, 2, 4, 3, 5, 6, 7]]"
      ]
     },
     "execution_count": 26,
     "metadata": {},
     "output_type": "execute_result"
    }
   ],
   "source": [
    "rdd1.glom().collect()"
   ]
  },
  {
   "cell_type": "code",
   "execution_count": 27,
   "metadata": {},
   "outputs": [
    {
     "data": {
      "text/plain": [
       "[[30, 40, 50, 60, 30, 20, 10, 40, 30, 50],\n",
       " [60, 70, 80, 90, 0, 80, 90, 0, 80, 90],\n",
       " [0, 30, 40, 20, 10, 30, 20, 40, 30, 50, 60, 70]]"
      ]
     },
     "execution_count": 27,
     "metadata": {},
     "output_type": "execute_result"
    }
   ],
   "source": [
    "rdd1.map(lambda x: x*10).glom().collect()"
   ]
  },
  {
   "cell_type": "code",
   "execution_count": 28,
   "metadata": {},
   "outputs": [
    {
     "data": {
      "text/plain": [
       "[[], [7, 8, 9, 8, 9, 8, 9], [7]]"
      ]
     },
     "execution_count": 28,
     "metadata": {},
     "output_type": "execute_result"
    }
   ],
   "source": [
    "rdd1.filter(lambda x: x > 6).glom().collect()"
   ]
  },
  {
   "cell_type": "code",
   "execution_count": 29,
   "metadata": {},
   "outputs": [
    {
     "data": {
      "text/plain": [
       "[[3, 3, 4, 4, 5, 5, 6, 6, 3, 3, 2, 2, 1, 1, 4, 4, 3, 3, 5, 5],\n",
       " [6, 6, 7, 7, 8, 8, 9, 9, 0, 0, 8, 8, 9, 9, 0, 0, 8, 8, 9, 9],\n",
       " [0, 0, 3, 3, 4, 4, 2, 2, 1, 1, 3, 3, 2, 2, 4, 4, 3, 3, 5, 5, 6, 6, 7, 7]]"
      ]
     },
     "execution_count": 29,
     "metadata": {},
     "output_type": "execute_result"
    }
   ],
   "source": [
    "rdd1.flatMap(lambda x: (x, x)).glom().collect()"
   ]
  },
  {
   "cell_type": "code",
   "execution_count": 2,
   "metadata": {},
   "outputs": [
    {
     "data": {
      "text/plain": [
       "['hadoop spark scala flatmap map groupby spark spark',\n",
       " 'hadoop scala flume oozie sqoop hive hive spark spark',\n",
       " 'mapreduce hadoop hive hadoop hdfs flatmap rdd scala',\n",
       " 'spark scala transformations actions rdd rdd rdd rdd',\n",
       " 'spark scala rdd transformations actions rdd rdd rdd',\n",
       " 'hadoop spark scala flatmap map groupby spark spark',\n",
       " 'hadoop scala flume oozie sqoop hive hive spark spark',\n",
       " 'mapreduce hadoop hive hadoop hdfs flatmap rdd scala',\n",
       " 'spark scala transformations actions rdd rdd rdd rdd',\n",
       " 'spark scala rdd transformations actions rdd rdd rdd',\n",
       " 'hadoop spark scala flatmap map groupby spark spark',\n",
       " 'hadoop scala flume oozie sqoop hive hive spark spark',\n",
       " 'mapreduce hadoop hive hadoop hdfs flatmap rdd scala',\n",
       " 'spark scala transformations actions rdd rdd rdd rdd',\n",
       " 'hadoop spark scala flatmap map groupby spark spark',\n",
       " 'hadoop scala flume oozie sqoop hive hive spark spark',\n",
       " 'mapreduce hadoop hive hadoop hdfs flatmap rdd scala',\n",
       " 'spark scala transformations actions rdd rdd rdd rdd',\n",
       " 'spark scala rdd transformations actions rdd rdd rdd',\n",
       " 'hadoop spark scala flatmap map groupby spark spark',\n",
       " 'hadoop scala flume oozie sqoop hive hive spark spark',\n",
       " 'mapreduce hadoop hive hadoop hdfs flatmap rdd scala',\n",
       " 'spark scala transformations actions rdd rdd rdd rdd',\n",
       " 'spark scala rdd transformations actions rdd rdd rdd',\n",
       " 'hadoop spark scala flatmap map groupby spark spark',\n",
       " 'hadoop scala flume oozie sqoop hive hive spark spark',\n",
       " 'mapreduce hadoop hive hadoop hdfs flatmap rdd scala',\n",
       " 'spark scala transformations actions rdd hadoop hive',\n",
       " 'asd sadas das das das das das das d asd asd asd asd',\n",
       " 'hadoop scala flume oozie sqoop hive hive spark spark',\n",
       " 'mapreduce hadoop hive hadoop hdfs flatmap rdd scala',\n",
       " 'spark scala transformations actions rdd rdd rdd rdd',\n",
       " 'hadoop spark scala flatmap map groupby spark spark',\n",
       " 'hadoop scala flume oozie sqoop hive hive spark spark',\n",
       " 'mapreduce hadoop hive hadoop hdfs flatmap rdd scala',\n",
       " 'spark scala transformations actions rdd rdd rdd rdd',\n",
       " 'spark scala rdd transformations actions rdd rdd rdd',\n",
       " 'hadoop spark scala flatmap map groupby spark spark',\n",
       " 'hadoop scala flume oozie sqoop hive hive spark spark',\n",
       " 'mapreduce hadoop hive hadoop hdfs flatmap rdd scala',\n",
       " 'spark scala transformations actions rdd rdd rdd rdd',\n",
       " 'spark scala rdd transformations actions rdd rdd rdd',\n",
       " 'hadoop spark scala flatmap map groupby spark spark',\n",
       " 'hadoop scala flume oozie sqoop hive hive spark spark',\n",
       " 'mapreduce hadoop hive hadoop hdfs flatmap rdd scala',\n",
       " 'spark scala transformations actions rdd hadoop hive',\n",
       " 'asd sadas das das das das das das d asd asd asd asd']"
      ]
     },
     "execution_count": 2,
     "metadata": {},
     "output_type": "execute_result"
    }
   ],
   "source": [
    "rddFile.collect()"
   ]
  },
  {
   "cell_type": "code",
   "execution_count": 4,
   "metadata": {},
   "outputs": [
    {
     "data": {
      "text/plain": [
       "['hadoop spark scala flatmap map groupby spark spark',\n",
       " 'hadoop scala flume oozie sqoop hive hive spark spark',\n",
       " 'mapreduce hadoop hive hadoop hdfs flatmap rdd scala',\n",
       " 'spark scala transformations actions rdd rdd rdd rdd',\n",
       " 'spark scala rdd transformations actions rdd rdd rdd',\n",
       " 'hadoop spark scala flatmap map groupby spark spark',\n",
       " 'hadoop scala flume oozie sqoop hive hive spark spark',\n",
       " 'mapreduce hadoop hive hadoop hdfs flatmap rdd scala',\n",
       " 'spark scala transformations actions rdd rdd rdd rdd',\n",
       " 'spark scala rdd transformations actions rdd rdd rdd',\n",
       " 'hadoop spark scala flatmap map groupby spark spark',\n",
       " 'hadoop scala flume oozie sqoop hive hive spark spark',\n",
       " 'mapreduce hadoop hive hadoop hdfs flatmap rdd scala',\n",
       " 'spark scala transformations actions rdd rdd rdd rdd',\n",
       " 'hadoop spark scala flatmap map groupby spark spark',\n",
       " 'hadoop scala flume oozie sqoop hive hive spark spark',\n",
       " 'mapreduce hadoop hive hadoop hdfs flatmap rdd scala',\n",
       " 'spark scala transformations actions rdd rdd rdd rdd',\n",
       " 'spark scala rdd transformations actions rdd rdd rdd',\n",
       " 'hadoop spark scala flatmap map groupby spark spark',\n",
       " 'hadoop scala flume oozie sqoop hive hive spark spark',\n",
       " 'mapreduce hadoop hive hadoop hdfs flatmap rdd scala',\n",
       " 'spark scala transformations actions rdd rdd rdd rdd',\n",
       " 'spark scala rdd transformations actions rdd rdd rdd',\n",
       " 'hadoop spark scala flatmap map groupby spark spark',\n",
       " 'hadoop scala flume oozie sqoop hive hive spark spark',\n",
       " 'mapreduce hadoop hive hadoop hdfs flatmap rdd scala',\n",
       " 'spark scala transformations actions rdd hadoop hive',\n",
       " 'asd sadas das das das das das das d asd asd asd asd',\n",
       " 'hadoop scala flume oozie sqoop hive hive spark spark',\n",
       " 'mapreduce hadoop hive hadoop hdfs flatmap rdd scala',\n",
       " 'spark scala transformations actions rdd rdd rdd rdd',\n",
       " 'hadoop spark scala flatmap map groupby spark spark',\n",
       " 'hadoop scala flume oozie sqoop hive hive spark spark',\n",
       " 'mapreduce hadoop hive hadoop hdfs flatmap rdd scala',\n",
       " 'spark scala transformations actions rdd rdd rdd rdd',\n",
       " 'spark scala rdd transformations actions rdd rdd rdd',\n",
       " 'hadoop spark scala flatmap map groupby spark spark',\n",
       " 'hadoop scala flume oozie sqoop hive hive spark spark',\n",
       " 'mapreduce hadoop hive hadoop hdfs flatmap rdd scala',\n",
       " 'spark scala transformations actions rdd rdd rdd rdd',\n",
       " 'spark scala rdd transformations actions rdd rdd rdd',\n",
       " 'hadoop spark scala flatmap map groupby spark spark',\n",
       " 'hadoop scala flume oozie sqoop hive hive spark spark',\n",
       " 'mapreduce hadoop hive hadoop hdfs flatmap rdd scala',\n",
       " 'spark scala transformations actions rdd hadoop hive',\n",
       " 'asd sadas das das das das das das d asd asd asd asd']"
      ]
     },
     "execution_count": 4,
     "metadata": {},
     "output_type": "execute_result"
    }
   ],
   "source": [
    "rddFile.collect()"
   ]
  },
  {
   "cell_type": "code",
   "execution_count": null,
   "metadata": {},
   "outputs": [],
   "source": []
  }
 ],
 "metadata": {
  "application/vnd.databricks.v1+notebook": {
   "computePreferences": null,
   "dashboards": [],
   "environmentMetadata": null,
   "inputWidgetPreferences": null,
   "language": "python",
   "notebookMetadata": {
    "pythonIndentUnit": 4
   },
   "notebookName": "1.RDD-Transformations-1",
   "widgets": {}
  },
  "kernelspec": {
   "display_name": "Python 3",
   "language": "python",
   "name": "python3"
  },
  "language_info": {
   "codemirror_mode": {
    "name": "ipython",
    "version": 3
   },
   "file_extension": ".py",
   "mimetype": "text/x-python",
   "name": "python",
   "nbconvert_exporter": "python",
   "pygments_lexer": "ipython3",
   "version": "3.6.4"
  }
 },
 "nbformat": 4,
 "nbformat_minor": 1
}
