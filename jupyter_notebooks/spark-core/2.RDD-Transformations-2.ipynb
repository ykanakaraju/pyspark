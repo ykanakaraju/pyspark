{
 "cells": [
  {
   "cell_type": "markdown",
   "metadata": {
    "application/vnd.databricks.v1+cell": {
     "cellMetadata": {},
     "inputWidgets": {},
     "nuid": "9ef72f2a-3ee6-4d0c-9edd-6db75b5ed7f1",
     "showTitle": false,
     "tableResultSettingsMap": {},
     "title": ""
    }
   },
   "source": [
    "#### RDD Transformations - Wide Transformations\n",
    "\n",
    "- distinct\n",
    "- sortBy\n",
    "- groupBy\n",
    "- partitionBy\n",
    "- sortByKey\n",
    "- groupByKey\n",
    "- reduceByKey\n",
    "- repartition\n",
    "- coalesce\n"
   ]
  },
  {
   "cell_type": "code",
   "execution_count": null,
   "metadata": {
    "application/vnd.databricks.v1+cell": {
     "cellMetadata": {
      "byteLimit": 2048000,
      "rowLimit": 10000
     },
     "inputWidgets": {},
     "nuid": "e56a95c0-83c6-4db3-b848-a9cc9d63476d",
     "showTitle": false,
     "tableResultSettingsMap": {},
     "title": ""
    }
   },
   "outputs": [],
   "source": [
    "%run \"0.RDD-Sample-Data.ipynb\""
   ]
  },
  {
   "cell_type": "code",
   "execution_count": null,
   "metadata": {
    "application/vnd.databricks.v1+cell": {
     "cellMetadata": {
      "byteLimit": 2048000,
      "rowLimit": 10000
     },
     "inputWidgets": {},
     "nuid": "23ba741a-3aa3-4bea-ad9c-eb583ffcb33d",
     "showTitle": false,
     "tableResultSettingsMap": {},
     "title": ""
    }
   },
   "outputs": [],
   "source": [
    "rddWords.collect()"
   ]
  },
  {
   "cell_type": "code",
   "execution_count": null,
   "metadata": {},
   "outputs": [],
   "source": [
    "sc"
   ]
  },
  {
   "cell_type": "markdown",
   "metadata": {
    "application/vnd.databricks.v1+cell": {
     "cellMetadata": {},
     "inputWidgets": {},
     "nuid": "8dd297b0-d1ee-4820-85fd-863e4bc9e8a4",
     "showTitle": false,
     "tableResultSettingsMap": {},
     "title": ""
    }
   },
   "source": [
    "**distinct**"
   ]
  },
  {
   "cell_type": "code",
   "execution_count": null,
   "metadata": {},
   "outputs": [],
   "source": [
    "rdd1.glom().collect()"
   ]
  },
  {
   "cell_type": "code",
   "execution_count": null,
   "metadata": {
    "application/vnd.databricks.v1+cell": {
     "cellMetadata": {
      "byteLimit": 2048000,
      "rowLimit": 10000
     },
     "inputWidgets": {},
     "nuid": "a3f53e88-1916-4a9d-91c9-e6b8d4d8c77d",
     "showTitle": false,
     "tableResultSettingsMap": {},
     "title": ""
    }
   },
   "outputs": [],
   "source": [
    "#rdd1.distinct().glom().collect()\n",
    "#rdd1.distinct(2).glom().collect()\n",
    "#rddWords.distinct().glom().collect()\n",
    "\n",
    "sc \\\n",
    ".textFile(\"E:\\\\Spark\\\\wordcount.txt\", 4) \\\n",
    ".flatMap(lambda x: x.split()) \\\n",
    ".distinct(2) \\\n",
    ".glom()\\\n",
    ".collect()"
   ]
  },
  {
   "cell_type": "code",
   "execution_count": null,
   "metadata": {
    "application/vnd.databricks.v1+cell": {
     "cellMetadata": {
      "byteLimit": 2048000,
      "rowLimit": 10000
     },
     "inputWidgets": {},
     "nuid": "d424cab7-6160-4ab4-a9fb-b7bf22515e57",
     "showTitle": false,
     "tableResultSettingsMap": {},
     "title": ""
    }
   },
   "outputs": [],
   "source": [
    "rdd2.distinct().collect()"
   ]
  },
  {
   "cell_type": "code",
   "execution_count": null,
   "metadata": {
    "application/vnd.databricks.v1+cell": {
     "cellMetadata": {
      "byteLimit": 2048000,
      "rowLimit": 10000
     },
     "inputWidgets": {},
     "nuid": "c4edd3ef-1516-4973-8cb7-a6ad98723cc0",
     "showTitle": false,
     "tableResultSettingsMap": {},
     "title": ""
    }
   },
   "outputs": [],
   "source": [
    "rddWords.distinct().collect()"
   ]
  },
  {
   "cell_type": "code",
   "execution_count": null,
   "metadata": {},
   "outputs": [],
   "source": [
    "rddFile.flatMap(lambda x: x).distinct().collect()"
   ]
  },
  {
   "cell_type": "markdown",
   "metadata": {
    "application/vnd.databricks.v1+cell": {
     "cellMetadata": {},
     "inputWidgets": {},
     "nuid": "6da4aa86-2e84-4a4a-9175-d378ba295456",
     "showTitle": false,
     "tableResultSettingsMap": {},
     "title": ""
    }
   },
   "source": [
    "**sortBy**\n",
    "\n",
    "- Sorts the objects of RDD based on the function output that they generate.\n",
    "- P: U -> V,  Optional: ascending (True/False), numPartitions"
   ]
  },
  {
   "cell_type": "code",
   "execution_count": null,
   "metadata": {
    "application/vnd.databricks.v1+cell": {
     "cellMetadata": {
      "byteLimit": 2048000,
      "rowLimit": 10000
     },
     "inputWidgets": {},
     "nuid": "53d88065-e0cf-40e3-834b-264370a0c48b",
     "showTitle": false,
     "tableResultSettingsMap": {},
     "title": ""
    }
   },
   "outputs": [],
   "source": [
    "rdd1.glom().collect()"
   ]
  },
  {
   "cell_type": "code",
   "execution_count": null,
   "metadata": {},
   "outputs": [],
   "source": [
    "rdd1.sortBy(lambda x: x, False).collect()"
   ]
  },
  {
   "cell_type": "code",
   "execution_count": null,
   "metadata": {},
   "outputs": [],
   "source": [
    "#rdd1.sortBy(lambda x: x%3).glom().collect()\n",
    "#rdd1.sortBy(lambda x: x%2, False, 2).glom().collect()\n",
    "rdd1.sortBy(lambda x: x > 4, False, 1).glom().collect()"
   ]
  },
  {
   "cell_type": "code",
   "execution_count": null,
   "metadata": {},
   "outputs": [],
   "source": [
    "#rdd2.sortBy(sum, False).collect()\n",
    "#rdd2.sortBy(lambda x: x[1]).glom().collect()\n",
    "rdd2.sortBy(lambda x: x).glom().collect()"
   ]
  },
  {
   "cell_type": "code",
   "execution_count": null,
   "metadata": {},
   "outputs": [],
   "source": [
    "#rddWords.sortBy(len, False, 10).glom().collect()\n",
    "#rddWords.sortBy(lambda x: x[-1], True, 3).glom().collect()\n",
    "rddWords.sortBy(lambda x: x).glom().collect()"
   ]
  },
  {
   "cell_type": "markdown",
   "metadata": {
    "application/vnd.databricks.v1+cell": {
     "cellMetadata": {},
     "inputWidgets": {},
     "nuid": "f8d57260-d71d-410e-b561-dcbb22588a18",
     "showTitle": false,
     "tableResultSettingsMap": {},
     "title": ""
    }
   },
   "source": [
    "**groupBy**\n",
    "\n",
    "Returns a Pair-RDD where:\n",
    "- key: Each unique value of the function output\n",
    "- value: **ResultIterable**. Grouped objects of the RDD that produced the key"
   ]
  },
  {
   "cell_type": "code",
   "execution_count": null,
   "metadata": {
    "application/vnd.databricks.v1+cell": {
     "cellMetadata": {
      "byteLimit": 2048000,
      "rowLimit": 10000
     },
     "inputWidgets": {},
     "nuid": "62227bc0-d7ed-406a-9f59-b8dd33af4e3e",
     "showTitle": false,
     "tableResultSettingsMap": {},
     "title": ""
    }
   },
   "outputs": [],
   "source": [
    "rdd1.collect()"
   ]
  },
  {
   "cell_type": "code",
   "execution_count": null,
   "metadata": {},
   "outputs": [],
   "source": [
    "#rdd1.groupBy(lambda x: x%2).map(lambda p: (p[0], list(p[1]))).collect()\n",
    "#rdd1.groupBy(lambda x: x%2).mapValues(list).collect()\n",
    "rdd1.groupBy(lambda x: x > 4, 2).mapValues(list).glom().collect()"
   ]
  },
  {
   "cell_type": "code",
   "execution_count": null,
   "metadata": {},
   "outputs": [],
   "source": [
    "#rdd2.groupBy(lambda x: x[1]).mapValues(list).collect()\n",
    "rdd2.groupBy(sum).mapValues(list).collect()"
   ]
  },
  {
   "cell_type": "code",
   "execution_count": null,
   "metadata": {},
   "outputs": [],
   "source": [
    "#rddWords.groupBy(lambda x: x[0]).mapValues(list).collect()\n",
    "rddWords.groupBy(len).mapValues(list).collect()"
   ]
  },
  {
   "cell_type": "markdown",
   "metadata": {
    "application/vnd.databricks.v1+cell": {
     "cellMetadata": {},
     "inputWidgets": {},
     "nuid": "a9f919b3-e3e0-494b-b60f-62b999025235",
     "showTitle": false,
     "tableResultSettingsMap": {},
     "title": ""
    }
   },
   "source": [
    "- How many words are there with each length in *rddWords* rdd"
   ]
  },
  {
   "cell_type": "code",
   "execution_count": null,
   "metadata": {
    "application/vnd.databricks.v1+cell": {
     "cellMetadata": {
      "byteLimit": 2048000,
      "rowLimit": 10000
     },
     "inputWidgets": {},
     "nuid": "e75bf86d-ebce-4b20-aa67-87d64fd85299",
     "showTitle": false,
     "tableResultSettingsMap": {},
     "title": ""
    }
   },
   "outputs": [],
   "source": [
    "rddWords.groupBy(len).mapValues(len).sortBy(lambda x: x).collect()"
   ]
  },
  {
   "cell_type": "markdown",
   "metadata": {
    "application/vnd.databricks.v1+cell": {
     "cellMetadata": {},
     "inputWidgets": {},
     "nuid": "f9114d45-9f83-4fec-b9ff-81eb82193d71",
     "showTitle": false,
     "tableResultSettingsMap": {},
     "title": ""
    }
   },
   "source": [
    "\n",
    "**Transformations that can be applied only to Pair RDDs**\n",
    "- partitionBy\n",
    "- sortByKey\n",
    "- groupByKey\n",
    "- reduceByKey\n",
    "- mapValues"
   ]
  },
  {
   "cell_type": "markdown",
   "metadata": {
    "application/vnd.databricks.v1+cell": {
     "cellMetadata": {},
     "inputWidgets": {},
     "nuid": "77d0509c-c3e7-4991-b72b-cf9befd260b8",
     "showTitle": false,
     "tableResultSettingsMap": {},
     "title": ""
    }
   },
   "source": [
    "**partitionBy**\n",
    "\n",
    "- Applied only on pair RDD\n",
    "- Partitioning happens based on the key"
   ]
  },
  {
   "cell_type": "code",
   "execution_count": null,
   "metadata": {
    "application/vnd.databricks.v1+cell": {
     "cellMetadata": {
      "byteLimit": 2048000,
      "rowLimit": 10000
     },
     "inputWidgets": {},
     "nuid": "27f80e8c-a44b-43f7-8efd-2415ab8fc446",
     "showTitle": false,
     "tableResultSettingsMap": {},
     "title": ""
    }
   },
   "outputs": [],
   "source": [
    "rdd2.glom().collect()"
   ]
  },
  {
   "cell_type": "code",
   "execution_count": null,
   "metadata": {},
   "outputs": [],
   "source": [
    "#rdd_partitioned = rdd2.partitionBy(5)\n",
    "rdd_partitioned = rdd2.partitionBy(5, lambda x: x + 17)\n",
    "rdd_partitioned.glom().collect()"
   ]
  },
  {
   "cell_type": "code",
   "execution_count": null,
   "metadata": {
    "application/vnd.databricks.v1+cell": {
     "cellMetadata": {
      "byteLimit": 2048000,
      "rowLimit": 10000
     },
     "inputWidgets": {},
     "nuid": "32aaf526-48f5-47a9-8f23-f24d5ea6fdce",
     "showTitle": false,
     "tableResultSettingsMap": {},
     "title": ""
    }
   },
   "outputs": [],
   "source": [
    "transactions = [\n",
    "    {'name': 'Raju', 'amount': 100, 'city': 'Chennai'},\n",
    "    {'name': 'Mahesh', 'amount': 15, 'city': 'Hyderabad'},\n",
    "    {'name': 'Madhu', 'amount': 51, 'city': 'Hyderabad'},\n",
    "    {'name': 'Revati', 'amount': 200, 'city': 'Chennai'},\n",
    "    {'name': 'Amrita', 'amount': 75, 'city': 'Pune'},\n",
    "    {'name': 'Aditya', 'amount': 175, 'city': 'Bangalore'},\n",
    "    {'name': 'Keertana', 'amount': 105, 'city': 'Pune'},\n",
    "    {'name': 'Keertana', 'amount': 105, 'city': 'Vijayawada'},\n",
    "    {'name': 'Amrita', 'amount': 75, 'city': 'Pune'},\n",
    "    {'name': 'Aditya', 'amount': 175, 'city': 'Bangalore'},\n",
    "    {'name': 'Keertana', 'amount': 105, 'city': 'Pune'},\n",
    "    {'name': 'Keertana', 'amount': 105, 'city': 'Vijayawada'}]"
   ]
  },
  {
   "cell_type": "code",
   "execution_count": null,
   "metadata": {
    "application/vnd.databricks.v1+cell": {
     "cellMetadata": {
      "byteLimit": 2048000,
      "rowLimit": 10000
     },
     "inputWidgets": {},
     "nuid": "4a9e3db3-71d6-448f-9b7c-a784ccbfd357",
     "showTitle": false,
     "tableResultSettingsMap": {},
     "title": ""
    }
   },
   "outputs": [],
   "source": [
    "def city_partitioner(city):\n",
    "    if (city == \"Hyderabad\" or city == \"Vijayawada\"): return 0\n",
    "    elif (city == \"Bangalore\"): return 1\n",
    "    elif (city == \"Chennai\"): return 2\n",
    "    else: return 3"
   ]
  },
  {
   "cell_type": "code",
   "execution_count": null,
   "metadata": {
    "application/vnd.databricks.v1+cell": {
     "cellMetadata": {
      "byteLimit": 2048000,
      "rowLimit": 10000
     },
     "inputWidgets": {},
     "nuid": "420b775f-eace-4e8e-965e-e4e9afa73c8b",
     "showTitle": false,
     "tableResultSettingsMap": {},
     "title": ""
    }
   },
   "outputs": [],
   "source": [
    "transactions_rdd = sc.parallelize(transactions, 3) \\\n",
    "                    .map(lambda d: (d['city'], d)) \\\n",
    "                    .partitionBy(4, city_partitioner) \\\n",
    "                    .map(lambda p: p[1])\n",
    "\n",
    "transactions_rdd.glom().collect()"
   ]
  },
  {
   "cell_type": "markdown",
   "metadata": {
    "application/vnd.databricks.v1+cell": {
     "cellMetadata": {},
     "inputWidgets": {},
     "nuid": "3e6318aa-8995-4d2f-9407-0628548534be",
     "showTitle": false,
     "tableResultSettingsMap": {},
     "title": ""
    }
   },
   "source": [
    "**sortByKey**\n",
    "\n",
    "- Applied only on Pair RDDs\n",
    "- Sorts the data based on the key"
   ]
  },
  {
   "cell_type": "code",
   "execution_count": null,
   "metadata": {
    "application/vnd.databricks.v1+cell": {
     "cellMetadata": {
      "byteLimit": 2048000,
      "rowLimit": 10000
     },
     "inputWidgets": {},
     "nuid": "f11e3e83-0e3e-4be6-9446-0f67c11ca4ea",
     "showTitle": false,
     "tableResultSettingsMap": {},
     "title": ""
    }
   },
   "outputs": [],
   "source": [
    "#rdd2.sortByKey().collect()\n",
    "#rdd2.sortByKey(False).glom().collect()\n",
    "rdd2.sortByKey(True, 6).glom().collect()"
   ]
  },
  {
   "cell_type": "code",
   "execution_count": null,
   "metadata": {},
   "outputs": [],
   "source": [
    "rddPairs = rddWords.map(lambda x: (x, 1))\n",
    "rddPairs.collect()"
   ]
  },
  {
   "cell_type": "code",
   "execution_count": null,
   "metadata": {},
   "outputs": [],
   "source": [
    "rddPairs.sortByKey().collect()"
   ]
  },
  {
   "cell_type": "markdown",
   "metadata": {
    "application/vnd.databricks.v1+cell": {
     "cellMetadata": {},
     "inputWidgets": {},
     "nuid": "9e78229f-9ec9-441d-80da-3608dc7ed1d7",
     "showTitle": false,
     "tableResultSettingsMap": {},
     "title": ""
    }
   },
   "source": [
    "**groupByKey**\n",
    "\n",
    "- Applied on Pair RDDs only\n",
    "- Returns a Pair RDD where:\n",
    "\t- key: each unique key of the (K, V) pairs\n",
    "\t- value: *ResultIterable*. Grouped values with the same key."
   ]
  },
  {
   "cell_type": "code",
   "execution_count": null,
   "metadata": {
    "application/vnd.databricks.v1+cell": {
     "cellMetadata": {
      "byteLimit": 2048000,
      "rowLimit": 10000
     },
     "inputWidgets": {},
     "nuid": "8054185f-fda4-43f4-b6c8-4996dd34abd9",
     "showTitle": false,
     "tableResultSettingsMap": {},
     "title": ""
    }
   },
   "outputs": [],
   "source": [
    "#rdd2.groupByKey().mapValues(list).glom().collect()\n",
    "rdd2.groupByKey(4).mapValues(list).glom().collect()"
   ]
  },
  {
   "cell_type": "code",
   "execution_count": null,
   "metadata": {},
   "outputs": [],
   "source": [
    "rddPairs.groupByKey().mapValues(list).collect()"
   ]
  },
  {
   "cell_type": "markdown",
   "metadata": {
    "application/vnd.databricks.v1+cell": {
     "cellMetadata": {},
     "inputWidgets": {},
     "nuid": "8f1fe7b8-df7a-4376-88cd-02b212700ccf",
     "showTitle": false,
     "tableResultSettingsMap": {},
     "title": ""
    }
   },
   "source": [
    "**reduceByKey**\n",
    "\n",
    "- Reduces all the values of each unique key by iterativly running the reduce function."
   ]
  },
  {
   "cell_type": "code",
   "execution_count": null,
   "metadata": {
    "application/vnd.databricks.v1+cell": {
     "cellMetadata": {
      "byteLimit": 2048000,
      "rowLimit": 10000
     },
     "inputWidgets": {},
     "nuid": "359b9179-0cd8-4669-95d3-6f794318aa50",
     "showTitle": false,
     "tableResultSettingsMap": {},
     "title": ""
    }
   },
   "outputs": [],
   "source": [
    "rdd2.reduceByKey(lambda x, y: x + y, 2).glom().collect()"
   ]
  },
  {
   "cell_type": "code",
   "execution_count": null,
   "metadata": {
    "application/vnd.databricks.v1+cell": {
     "cellMetadata": {
      "byteLimit": 2048000,
      "rowLimit": 10000
     },
     "inputWidgets": {},
     "nuid": "735bdf58-5259-413d-9235-c2bb974d8652",
     "showTitle": false,
     "tableResultSettingsMap": {},
     "title": ""
    }
   },
   "outputs": [],
   "source": [
    "rddPairs.reduceByKey(lambda x, y: x + y).collect()"
   ]
  },
  {
   "cell_type": "markdown",
   "metadata": {
    "application/vnd.databricks.v1+cell": {
     "cellMetadata": {},
     "inputWidgets": {},
     "nuid": "003828a6-c986-40df-8bd3-ea82ea5418ae",
     "showTitle": false,
     "tableResultSettingsMap": {},
     "title": ""
    }
   },
   "source": [
    "**repartition**\n",
    "- Is used to increase or decrease the number of partitions\n",
    "- Performs global shuffle"
   ]
  },
  {
   "cell_type": "code",
   "execution_count": null,
   "metadata": {},
   "outputs": [],
   "source": [
    "def partitions(rdd):\n",
    "    print(rdd.glom().map(len).collect())\n",
    "    pass"
   ]
  },
  {
   "cell_type": "code",
   "execution_count": null,
   "metadata": {},
   "outputs": [],
   "source": [
    "partitions(rddWords)"
   ]
  },
  {
   "cell_type": "code",
   "execution_count": null,
   "metadata": {},
   "outputs": [],
   "source": [
    "rddWords6 = rddWords.repartition(6)\n",
    "partitions(rddWords6)"
   ]
  },
  {
   "cell_type": "code",
   "execution_count": null,
   "metadata": {
    "application/vnd.databricks.v1+cell": {
     "cellMetadata": {
      "byteLimit": 2048000,
      "rowLimit": 10000
     },
     "inputWidgets": {},
     "nuid": "e12e7198-4363-4601-bf9e-37715ac38ec4",
     "showTitle": false,
     "tableResultSettingsMap": {},
     "title": ""
    }
   },
   "outputs": [],
   "source": [
    "rddWords3 = rddWords6.repartition(3)\n",
    "partitions(rddWords3)"
   ]
  },
  {
   "cell_type": "code",
   "execution_count": null,
   "metadata": {},
   "outputs": [],
   "source": [
    "rddWords4 = rddWords6.repartition(4)\n",
    "partitions(rddWords4)"
   ]
  },
  {
   "cell_type": "markdown",
   "metadata": {
    "application/vnd.databricks.v1+cell": {
     "cellMetadata": {},
     "inputWidgets": {},
     "nuid": "52a05893-cde3-45fe-8d51-441fbbf96d3e",
     "showTitle": false,
     "tableResultSettingsMap": {},
     "title": ""
    }
   },
   "source": [
    "**coalesce**\n",
    "- Is used only to decrease the number of partitions\n",
    "- Performs partition merging\n"
   ]
  },
  {
   "cell_type": "code",
   "execution_count": null,
   "metadata": {
    "application/vnd.databricks.v1+cell": {
     "cellMetadata": {
      "byteLimit": 2048000,
      "rowLimit": 10000
     },
     "inputWidgets": {},
     "nuid": "9ca2acfb-064a-46e2-8a85-1d56329bc38e",
     "showTitle": false,
     "tableResultSettingsMap": {},
     "title": ""
    }
   },
   "outputs": [],
   "source": [
    "partitions(rddWords6)"
   ]
  },
  {
   "cell_type": "code",
   "execution_count": null,
   "metadata": {
    "application/vnd.databricks.v1+cell": {
     "cellMetadata": {
      "byteLimit": 2048000,
      "rowLimit": 10000
     },
     "inputWidgets": {},
     "nuid": "7b6ed948-41b1-423d-a91e-999d0f0c4f4f",
     "showTitle": false,
     "tableResultSettingsMap": {},
     "title": ""
    }
   },
   "outputs": [],
   "source": [
    "rddWords3 = rddWords6.coalesce(3)\n",
    "partitions(rddWords3)"
   ]
  },
  {
   "cell_type": "code",
   "execution_count": null,
   "metadata": {
    "application/vnd.databricks.v1+cell": {
     "cellMetadata": {
      "byteLimit": 2048000,
      "rowLimit": 10000
     },
     "inputWidgets": {},
     "nuid": "a3e6891b-0afc-463f-8bd0-9ca1b04cac65",
     "showTitle": false,
     "tableResultSettingsMap": {},
     "title": ""
    }
   },
   "outputs": [],
   "source": [
    "rddWords4 = rddWords6.coalesce(4)\n",
    "partitions(rddWords4)"
   ]
  },
  {
   "cell_type": "code",
   "execution_count": null,
   "metadata": {
    "application/vnd.databricks.v1+cell": {
     "cellMetadata": {
      "byteLimit": 2048000,
      "rowLimit": 10000
     },
     "inputWidgets": {},
     "nuid": "4542693f-e5c7-43cf-b1ad-8a014b75a746",
     "showTitle": false,
     "tableResultSettingsMap": {},
     "title": ""
    }
   },
   "outputs": [],
   "source": []
  }
 ],
 "metadata": {
  "application/vnd.databricks.v1+notebook": {
   "computePreferences": null,
   "dashboards": [],
   "environmentMetadata": null,
   "inputWidgetPreferences": null,
   "language": "python",
   "notebookMetadata": {
    "pythonIndentUnit": 4
   },
   "notebookName": "2.RDD-Transformations-2",
   "widgets": {}
  },
  "kernelspec": {
   "display_name": "Python 3",
   "language": "python",
   "name": "python3"
  },
  "language_info": {
   "codemirror_mode": {
    "name": "ipython",
    "version": 3
   },
   "file_extension": ".py",
   "mimetype": "text/x-python",
   "name": "python",
   "nbconvert_exporter": "python",
   "pygments_lexer": "ipython3",
   "version": "3.6.4"
  }
 },
 "nbformat": 4,
 "nbformat_minor": 1
}
