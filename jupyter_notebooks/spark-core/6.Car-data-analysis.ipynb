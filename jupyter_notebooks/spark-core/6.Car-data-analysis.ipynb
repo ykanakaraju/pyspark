{
 "cells": [
  {
   "cell_type": "markdown",
   "metadata": {
    "application/vnd.databricks.v1+cell": {
     "cellMetadata": {},
     "inputWidgets": {},
     "nuid": "62b20b4c-dd0b-41f2-b3dc-76f75d0552aa",
     "showTitle": false,
     "tableResultSettingsMap": {},
     "title": ""
    }
   },
   "source": [
    "\n",
    "## Case-study: Car data analysis\n",
    "\n",
    "** From cars.tsv dataset, get the average weight of all the models of each make of American origin cars **\n",
    "\n",
    "- Arrange in the DESC order of average weight. \n",
    "- Save the output as a single text file. "
   ]
  },
  {
   "cell_type": "code",
   "execution_count": null,
   "metadata": {},
   "outputs": [],
   "source": [
    "%run \"Setup-App.ipynb\""
   ]
  },
  {
   "cell_type": "code",
   "execution_count": null,
   "metadata": {
    "application/vnd.databricks.v1+cell": {
     "cellMetadata": {
      "byteLimit": 2048000,
      "rowLimit": 10000
     },
     "inputWidgets": {},
     "nuid": "7466939e-7bac-4151-b211-ad95b9a26c75",
     "showTitle": false,
     "tableResultSettingsMap": {},
     "title": ""
    }
   },
   "outputs": [],
   "source": [
    "cars_file_path = \"E:\\\\PySpark\\\\data\\\\cars.tsv\""
   ]
  },
  {
   "cell_type": "markdown",
   "metadata": {
    "application/vnd.databricks.v1+cell": {
     "cellMetadata": {
      "byteLimit": 2048000,
      "rowLimit": 10000
     },
     "inputWidgets": {},
     "nuid": "9753a5b7-94db-4592-8a5b-2c6d10a4b7bc",
     "showTitle": false,
     "tableResultSettingsMap": {},
     "title": ""
    }
   },
   "source": [
    "#### Method 1"
   ]
  },
  {
   "cell_type": "code",
   "execution_count": null,
   "metadata": {
    "application/vnd.databricks.v1+cell": {
     "cellMetadata": {
      "byteLimit": 2048000,
      "rowLimit": 10000
     },
     "inputWidgets": {},
     "nuid": "6b9fd0e5-8ae6-44c2-a8cb-0d86c5edc7f7",
     "showTitle": false,
     "tableResultSettingsMap": {},
     "title": ""
    }
   },
   "outputs": [],
   "source": [
    "average_weight_rdd = sc.textFile(cars_file_path, 4) \\\n",
    "                    .map(lambda x: x.split(\"\\t\")) \\\n",
    "                    .filter(lambda l: l[-1] == \"American\") \\\n",
    "                    .map(lambda l: (l[0], l[6])) \\\n",
    "                    .mapValues(int) \\\n",
    "                    .groupByKey() \\\n",
    "                    .mapValues(lambda ri: sum(ri)/len(ri)) \\\n",
    "                    .sortBy(lambda x: x[1], False) \\\n",
    "                    .coalesce(1)\n",
    "\n",
    "average_weight_rdd.collect()"
   ]
  },
  {
   "cell_type": "code",
   "execution_count": null,
   "metadata": {
    "application/vnd.databricks.v1+cell": {
     "cellMetadata": {
      "byteLimit": 2048000,
      "rowLimit": 10000
     },
     "inputWidgets": {},
     "nuid": "abbefe73-c07e-4869-9b9c-42a0f2c9e6f4",
     "showTitle": false,
     "tableResultSettingsMap": {},
     "title": ""
    }
   },
   "outputs": [],
   "source": [
    "average_weight_rdd.saveAsTextFile(\"E:\\\\PySpark\\\\output\\\\cars\")"
   ]
  },
  {
   "cell_type": "markdown",
   "metadata": {
    "application/vnd.databricks.v1+cell": {
     "cellMetadata": {},
     "inputWidgets": {},
     "nuid": "b0c361b1-2e03-4530-b171-2f591ca3f89b",
     "showTitle": false,
     "tableResultSettingsMap": {},
     "title": ""
    }
   },
   "source": [
    "#### Method 2\n",
    "- This is a better solution then the one above"
   ]
  },
  {
   "cell_type": "code",
   "execution_count": 28,
   "metadata": {
    "application/vnd.databricks.v1+cell": {
     "cellMetadata": {
      "byteLimit": 2048000,
      "rowLimit": 10000
     },
     "inputWidgets": {},
     "nuid": "589f9d4d-8dae-4deb-90af-4bd9aa6ab99c",
     "showTitle": false,
     "tableResultSettingsMap": {},
     "title": ""
    }
   },
   "outputs": [
    {
     "data": {
      "text/plain": [
       "[('hi', 4732.0),\n",
       " ('chevy', 4376.0),\n",
       " ('pontiac', 4327.75),\n",
       " ('dodge', 4300.0),\n",
       " ('ford', 3791.625),\n",
       " ('buick', 3760.3333333333335),\n",
       " ('chevrolet', 3460.9),\n",
       " ('plymouth', 3382.8571428571427),\n",
       " ('amc', 3239.222222222222),\n",
       " ('mercury', 2220.0)]"
      ]
     },
     "execution_count": 28,
     "metadata": {},
     "output_type": "execute_result"
    }
   ],
   "source": [
    "average_weight_rdd = sc.textFile(cars_file_path, 4) \\\n",
    "                    .map(lambda x: x.split(\"\\t\")) \\\n",
    "                    .filter(lambda l: l[-1] == \"American\") \\\n",
    "                    .map(lambda l: (l[0], (int(l[6]), 1))) \\\n",
    "                    .reduceByKey(lambda x, y : (x[0] + y[0], x[1] + y[1])) \\\n",
    "                    .mapValues(lambda p: p[0]/p[1]) \\\n",
    "                    .sortBy(lambda x: x[1], False) \\\n",
    "                    .coalesce(1)\n",
    "                \n",
    "average_weight_rdd.collect()                "
   ]
  },
  {
   "cell_type": "code",
   "execution_count": 29,
   "metadata": {},
   "outputs": [
    {
     "data": {
      "text/html": [
       "\n",
       "        <div>\n",
       "            <p><b>SparkContext</b></p>\n",
       "\n",
       "            <p><a href=\"http://DESKTOP-3KI6KTQ:4043\">Spark UI</a></p>\n",
       "\n",
       "            <dl>\n",
       "              <dt>Version</dt>\n",
       "                <dd><code>v3.0.0-preview2</code></dd>\n",
       "              <dt>Master</dt>\n",
       "                <dd><code>local[*]</code></dd>\n",
       "              <dt>AppName</dt>\n",
       "                <dd><code>RDD App</code></dd>\n",
       "            </dl>\n",
       "        </div>\n",
       "        "
      ],
      "text/plain": [
       "<SparkContext master=local[*] appName=RDD App>"
      ]
     },
     "execution_count": 29,
     "metadata": {},
     "output_type": "execute_result"
    }
   ],
   "source": [
    "sc"
   ]
  },
  {
   "cell_type": "code",
   "execution_count": null,
   "metadata": {},
   "outputs": [],
   "source": []
  }
 ],
 "metadata": {
  "application/vnd.databricks.v1+notebook": {
   "computePreferences": null,
   "dashboards": [],
   "environmentMetadata": null,
   "inputWidgetPreferences": null,
   "language": "python",
   "notebookMetadata": {
    "pythonIndentUnit": 4
   },
   "notebookName": "6.Car-data-analysis",
   "widgets": {}
  },
  "kernelspec": {
   "display_name": "Python 3",
   "language": "python",
   "name": "python3"
  },
  "language_info": {
   "codemirror_mode": {
    "name": "ipython",
    "version": 3
   },
   "file_extension": ".py",
   "mimetype": "text/x-python",
   "name": "python",
   "nbconvert_exporter": "python",
   "pygments_lexer": "ipython3",
   "version": "3.6.4"
  }
 },
 "nbformat": 4,
 "nbformat_minor": 1
}
