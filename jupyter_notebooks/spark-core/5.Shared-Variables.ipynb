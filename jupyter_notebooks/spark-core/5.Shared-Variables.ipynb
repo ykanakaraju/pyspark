{
 "cells": [
  {
   "cell_type": "markdown",
   "metadata": {
    "application/vnd.databricks.v1+cell": {
     "cellMetadata": {},
     "inputWidgets": {},
     "nuid": "ece536db-ffa4-4eaf-9765-986fd80d8e87",
     "showTitle": false,
     "tableResultSettingsMap": {},
     "title": ""
    }
   },
   "source": [
    "## Accumulator variable\n",
    "\n",
    "- Is a shared variable that is not part of the closure\n",
    "- Maintained by driver\n",
    "- All tasks can add to it using 'add' method.\t\n",
    "- Only driver can read the value of accumulator. Tasks can only write to it.\n",
    "- Use accumulators to implement global counters. "
   ]
  },
  {
   "cell_type": "code",
   "execution_count": null,
   "metadata": {},
   "outputs": [],
   "source": [
    "%run \"Setup-App.ipynb\""
   ]
  },
  {
   "cell_type": "markdown",
   "metadata": {
    "application/vnd.databricks.v1+cell": {
     "cellMetadata": {
      "byteLimit": 2048000,
      "rowLimit": 10000
     },
     "inputWidgets": {},
     "nuid": "f6e50617-0af8-401e-bc1e-9a4814d874e7",
     "showTitle": false,
     "tableResultSettingsMap": {},
     "title": ""
    }
   },
   "source": [
    "**Example 1**"
   ]
  },
  {
   "cell_type": "code",
   "execution_count": null,
   "metadata": {
    "application/vnd.databricks.v1+cell": {
     "cellMetadata": {
      "byteLimit": 2048000,
      "rowLimit": 10000
     },
     "inputWidgets": {},
     "nuid": "6fcc105c-d0b5-4acf-8a6f-007edcda4fab",
     "showTitle": false,
     "tableResultSettingsMap": {},
     "title": ""
    }
   },
   "outputs": [],
   "source": [
    "# PROBLEM - Closure Problem\n",
    "counter = 0\n",
    "def increment_counter(x):\n",
    "    global counter\n",
    "    counter += x\n",
    "\n",
    "sc.parallelize(range(1, 101), 3).foreach(lambda x: increment_counter(x))\n",
    "print(\"counter: {}\".format(counter))"
   ]
  },
  {
   "cell_type": "code",
   "execution_count": null,
   "metadata": {
    "application/vnd.databricks.v1+cell": {
     "cellMetadata": {
      "byteLimit": 2048000,
      "rowLimit": 10000
     },
     "inputWidgets": {},
     "nuid": "2f245a57-557c-43a2-ae75-992ce0db9bba",
     "showTitle": false,
     "tableResultSettingsMap": {},
     "title": ""
    }
   },
   "outputs": [],
   "source": [
    "# SOLUTION - using accumulator variable\n",
    "ac_counter = sc.accumulator(0)\n",
    "\n",
    "def increment_counter_ac(x):\n",
    "    global ac_counter\n",
    "    ac_counter.add(x)\n",
    "\n",
    "sc.parallelize(range(1, 101), 3).foreach(lambda x: increment_counter_ac(x))\n",
    "print(\"ac_counter: {}\".format(ac_counter))"
   ]
  },
  {
   "cell_type": "markdown",
   "metadata": {
    "application/vnd.databricks.v1+cell": {
     "cellMetadata": {},
     "inputWidgets": {},
     "nuid": "d9b02be9-172e-481a-914a-95ab0e4d53e6",
     "showTitle": false,
     "tableResultSettingsMap": {},
     "title": ""
    }
   },
   "source": [
    "**Example 2**"
   ]
  },
  {
   "cell_type": "code",
   "execution_count": null,
   "metadata": {
    "application/vnd.databricks.v1+cell": {
     "cellMetadata": {
      "byteLimit": 2048000,
      "rowLimit": 10000
     },
     "inputWidgets": {},
     "nuid": "4ec7df54-0c5c-4e0c-8578-800741948d2b",
     "showTitle": false,
     "tableResultSettingsMap": {},
     "title": ""
    }
   },
   "outputs": [],
   "source": [
    "local_count = 0\n",
    "ac_count = sc.accumulator(0) \n",
    "\n",
    "def increment(i):\n",
    "    global ac_count, local_count\n",
    "    ac_count.add(1)\n",
    "    local_count += 1\n",
    "    return i*2\n",
    "\n",
    "result = sc.parallelize(range(1, 1001), 4) \\\n",
    "           .map(increment) \\\n",
    "           .reduce(lambda x,y: x+y)\n",
    "\n",
    "print(\"result: {}\".format(result))            \n",
    "print(\"ac_count: {}\".format(ac_count))         \n",
    "print(\"local_count: {}\".format(local_count))   "
   ]
  },
  {
   "cell_type": "markdown",
   "metadata": {
    "application/vnd.databricks.v1+cell": {
     "cellMetadata": {},
     "inputWidgets": {},
     "nuid": "b9fd4cec-165b-4425-a078-02e951f473e5",
     "showTitle": false,
     "tableResultSettingsMap": {},
     "title": ""
    }
   },
   "source": [
    "## Broadcast Variable\n",
    "\n",
    "- Is a shared variable that is not part of the closure\n",
    "\n"
   ]
  },
  {
   "cell_type": "code",
   "execution_count": null,
   "metadata": {},
   "outputs": [],
   "source": [
    "# CONTINUE FROM HERE ...."
   ]
  },
  {
   "cell_type": "code",
   "execution_count": null,
   "metadata": {
    "application/vnd.databricks.v1+cell": {
     "cellMetadata": {
      "byteLimit": 2048000,
      "rowLimit": 10000
     },
     "inputWidgets": {},
     "nuid": "31549c73-eee1-4dd7-8c7b-268d02843781",
     "showTitle": false,
     "tableResultSettingsMap": {},
     "title": ""
    }
   },
   "outputs": [],
   "source": [
    "list1 = [1,2,3,4,4,5,8,6,7,8,8,9,0,0]\n",
    "bcList = sc.broadcast(list1)\n",
    "#type(bcList)\n",
    "#type(bcList.value)\n",
    "#bcList.value[4]\n",
    "\n",
    "lookup = sc.broadcast({1: 'a', 2:'e', 3:'i', 4:'o', 5:'u'}) \n",
    "lookup.value[2]"
   ]
  },
  {
   "cell_type": "code",
   "execution_count": null,
   "metadata": {
    "application/vnd.databricks.v1+cell": {
     "cellMetadata": {
      "byteLimit": 2048000,
      "rowLimit": 10000
     },
     "inputWidgets": {},
     "nuid": "3bae756d-5dfb-49fa-a6e0-835b8ccbc9f2",
     "showTitle": false,
     "tableResultSettingsMap": {},
     "title": ""
    }
   },
   "outputs": [],
   "source": [
    "result = sc.parallelize([2, 1, 3]).map(lambda x: lookup.value[x]) \n",
    "print( result.collect() )"
   ]
  },
  {
   "cell_type": "code",
   "execution_count": null,
   "metadata": {
    "application/vnd.databricks.v1+cell": {
     "cellMetadata": {},
     "inputWidgets": {},
     "nuid": "52c350a3-f561-44db-9aad-69e600edacae",
     "showTitle": false,
     "tableResultSettingsMap": {},
     "title": ""
    }
   },
   "outputs": [],
   "source": []
  }
 ],
 "metadata": {
  "application/vnd.databricks.v1+notebook": {
   "computePreferences": null,
   "dashboards": [],
   "environmentMetadata": null,
   "inputWidgetPreferences": null,
   "language": "python",
   "notebookMetadata": {
    "pythonIndentUnit": 4
   },
   "notebookName": "5.Shared-Variables",
   "widgets": {}
  },
  "kernelspec": {
   "display_name": "Python 3",
   "language": "python",
   "name": "python3"
  },
  "language_info": {
   "codemirror_mode": {
    "name": "ipython",
    "version": 3
   },
   "file_extension": ".py",
   "mimetype": "text/x-python",
   "name": "python",
   "nbconvert_exporter": "python",
   "pygments_lexer": "ipython3",
   "version": "3.6.4"
  }
 },
 "nbformat": 4,
 "nbformat_minor": 1
}
