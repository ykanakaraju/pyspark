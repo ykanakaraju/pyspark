{
 "cells": [
  {
   "cell_type": "markdown",
   "metadata": {
    "application/vnd.databricks.v1+cell": {
     "cellMetadata": {
      "byteLimit": 2048000,
      "rowLimit": 10000
     },
     "inputWidgets": {},
     "nuid": "ab23d468-252d-4ba8-84a2-61954773e52b",
     "showTitle": false,
     "tableResultSettingsMap": {},
     "title": ""
    }
   },
   "source": [
    "**Dataset: dbfs:/FileStore/ctsdatasets/movielens**\n",
    "\n",
    "\n",
    "- From movies.csv and ratings.csv datasets, fetch the top 10 movies with highest average user-rating\n",
    "\t- Consider only those movies that are rated by atleast 50 users\n",
    "\t- Data: movieId, title, totalRatings, averageRating\n",
    "\t- Arrange the data in the DESC order of averageRating\n",
    "\t- Round the averageRating to 4 decimal places\n",
    "\t- Save the output as a single pipe-separated CSV file with header\n",
    "\t- Use only DF transformation methods (not SQL)"
   ]
  },
  {
   "cell_type": "code",
   "execution_count": 2,
   "metadata": {},
   "outputs": [],
   "source": [
    "%run \"./Setup.ipynb\""
   ]
  },
  {
   "cell_type": "code",
   "execution_count": 3,
   "metadata": {
    "application/vnd.databricks.v1+cell": {
     "cellMetadata": {
      "byteLimit": 2048000,
      "rowLimit": 10000
     },
     "inputWidgets": {},
     "nuid": "095a3967-1d15-4787-afc2-3787f09ee35e",
     "showTitle": false,
     "tableResultSettingsMap": {},
     "title": ""
    }
   },
   "outputs": [],
   "source": [
    "movies_file = \"E:\\\\PySpark\\\\data\\\\movielens\\\\movies.csv\"\n",
    "ratings_file = \"E:\\\\PySpark\\\\data\\\\movielens\\\\ratings.csv\""
   ]
  },
  {
   "cell_type": "code",
   "execution_count": 4,
   "metadata": {
    "application/vnd.databricks.v1+cell": {
     "cellMetadata": {
      "byteLimit": 2048000,
      "rowLimit": 10000
     },
     "inputWidgets": {},
     "nuid": "dfaa751a-ef77-4178-953b-ca18d5a123fe",
     "showTitle": false,
     "tableResultSettingsMap": {},
     "title": ""
    }
   },
   "outputs": [],
   "source": [
    "movies_schema = \"movieId INT, title STRING, genres STRING\"\n",
    "ratings_schema = \"userId INT, movieId INT, rating DOUBLE, timestamp BIGINT\""
   ]
  },
  {
   "cell_type": "code",
   "execution_count": 5,
   "metadata": {},
   "outputs": [],
   "source": [
    "movies_df = spark.read.csv(movies_file, header=True, schema=movies_schema)\n",
    "rating_df = spark.read.csv(ratings_file, header=True, schema=ratings_schema)"
   ]
  },
  {
   "cell_type": "code",
   "execution_count": 7,
   "metadata": {
    "application/vnd.databricks.v1+cell": {
     "cellMetadata": {
      "byteLimit": 2048000,
      "rowLimit": 10000
     },
     "inputWidgets": {},
     "nuid": "b0277081-3f4e-4878-b2c3-8089cbcd9876",
     "showTitle": false,
     "tableResultSettingsMap": {},
     "title": ""
    }
   },
   "outputs": [
    {
     "name": "stdout",
     "output_type": "stream",
     "text": [
      "+-------+----------------------------------+-------------------------------------------+\n",
      "|movieId|title                             |genres                                     |\n",
      "+-------+----------------------------------+-------------------------------------------+\n",
      "|1      |Toy Story (1995)                  |Adventure#Animation#Children#Comedy#Fantasy|\n",
      "|2      |Jumanji (1995)                    |Adventure#Children#Fantasy                 |\n",
      "|3      |Grumpier Old Men (1995)           |Comedy#Romance                             |\n",
      "|4      |Waiting to Exhale (1995)          |Comedy#Drama#Romance                       |\n",
      "|5      |Father of the Bride Part II (1995)|Comedy                                     |\n",
      "+-------+----------------------------------+-------------------------------------------+\n",
      "only showing top 5 rows\n",
      "\n"
     ]
    }
   ],
   "source": [
    "movies_df.show(5, False)"
   ]
  },
  {
   "cell_type": "code",
   "execution_count": 8,
   "metadata": {
    "application/vnd.databricks.v1+cell": {
     "cellMetadata": {},
     "inputWidgets": {},
     "nuid": "a840c7a9-7152-4c23-9fc4-fd89b040a4cd",
     "showTitle": false,
     "tableResultSettingsMap": {},
     "title": ""
    }
   },
   "outputs": [
    {
     "name": "stdout",
     "output_type": "stream",
     "text": [
      "+------+-------+------+----------+\n",
      "|userId|movieId|rating|timestamp |\n",
      "+------+-------+------+----------+\n",
      "|1     |31     |2.5   |1260759144|\n",
      "|1     |1029   |3.0   |1260759179|\n",
      "|1     |1061   |3.0   |1260759182|\n",
      "|1     |1129   |2.0   |1260759185|\n",
      "|1     |1172   |4.0   |1260759205|\n",
      "+------+-------+------+----------+\n",
      "only showing top 5 rows\n",
      "\n"
     ]
    }
   ],
   "source": [
    "rating_df.show(5, False)"
   ]
  },
  {
   "cell_type": "code",
   "execution_count": 9,
   "metadata": {},
   "outputs": [],
   "source": [
    "from pyspark.sql.functions import *"
   ]
  },
  {
   "cell_type": "code",
   "execution_count": 20,
   "metadata": {},
   "outputs": [
    {
     "name": "stdout",
     "output_type": "stream",
     "text": [
      "+-------+--------------------------------+------------+-------------+\n",
      "|movieId|title                           |totalRatings|averageRating|\n",
      "+-------+--------------------------------+------------+-------------+\n",
      "|858    |Godfather, The (1972)           |200         |4.4875       |\n",
      "|318    |Shawshank Redemption, The (1994)|311         |4.4871       |\n",
      "|969    |African Queen, The (1951)       |50          |4.42         |\n",
      "|913    |Maltese Falcon, The (1941)      |62          |4.3871       |\n",
      "|1221   |Godfather: Part II, The (1974)  |135         |4.3852       |\n",
      "|50     |Usual Suspects, The (1995)      |201         |4.3706       |\n",
      "|1228   |Raging Bull (1980)              |50          |4.35         |\n",
      "|1252   |Chinatown (1974)                |76          |4.3355       |\n",
      "|904    |Rear Window (1954)              |92          |4.3152       |\n",
      "|1203   |12 Angry Men (1957)             |74          |4.3041       |\n",
      "+-------+--------------------------------+------------+-------------+\n",
      "\n"
     ]
    }
   ],
   "source": [
    "average_rating_df = rating_df \\\n",
    "    .groupBy(\"movieId\") \\\n",
    "    .agg(\n",
    "        count(\"rating\").alias(\"totalRatings\"),\n",
    "        avg(\"rating\").alias(\"averageRating\")\n",
    "    ) \\\n",
    "    .where(\"totalRatings >= 50\") \\\n",
    "    .orderBy(desc(\"averageRating\")) \\\n",
    "    .limit(10) \\\n",
    "    .join(movies_df, \"movieId\") \\\n",
    "    .select(\"movieId\", \"title\", \"totalRatings\", \"averageRating\") \\\n",
    "    .orderBy(desc(\"averageRating\")) \\\n",
    "    .withColumn(\"averageRating\", round(\"averageRating\", 4)) \\\n",
    "    .coalesce(1)\n",
    "    \n",
    "average_rating_df.show(truncate=False)"
   ]
  },
  {
   "cell_type": "code",
   "execution_count": 13,
   "metadata": {},
   "outputs": [
    {
     "data": {
      "text/plain": [
       "453"
      ]
     },
     "execution_count": 13,
     "metadata": {},
     "output_type": "execute_result"
    }
   ],
   "source": [
    "average_rating_df.count()"
   ]
  },
  {
   "cell_type": "code",
   "execution_count": 21,
   "metadata": {},
   "outputs": [
    {
     "data": {
      "text/plain": [
       "1"
      ]
     },
     "execution_count": 21,
     "metadata": {},
     "output_type": "execute_result"
    }
   ],
   "source": [
    "average_rating_df.rdd.getNumPartitions()"
   ]
  },
  {
   "cell_type": "code",
   "execution_count": 22,
   "metadata": {},
   "outputs": [],
   "source": [
    "outputPath = \"E:\\\\PySpark\\\\output\\\\movies\"\n",
    "average_rating_df.write.csv(outputPath, header=True, sep=\"|\")"
   ]
  },
  {
   "cell_type": "markdown",
   "metadata": {},
   "source": [
    "### Example 2"
   ]
  },
  {
   "cell_type": "markdown",
   "metadata": {},
   "source": [
    "**Number of movies in each genre**"
   ]
  },
  {
   "cell_type": "code",
   "execution_count": 24,
   "metadata": {},
   "outputs": [
    {
     "name": "stdout",
     "output_type": "stream",
     "text": [
      "+-------+----------------------------------+-------------------------------------------+\n",
      "|movieId|title                             |genres                                     |\n",
      "+-------+----------------------------------+-------------------------------------------+\n",
      "|1      |Toy Story (1995)                  |Adventure#Animation#Children#Comedy#Fantasy|\n",
      "|2      |Jumanji (1995)                    |Adventure#Children#Fantasy                 |\n",
      "|3      |Grumpier Old Men (1995)           |Comedy#Romance                             |\n",
      "|4      |Waiting to Exhale (1995)          |Comedy#Drama#Romance                       |\n",
      "|5      |Father of the Bride Part II (1995)|Comedy                                     |\n",
      "+-------+----------------------------------+-------------------------------------------+\n",
      "only showing top 5 rows\n",
      "\n"
     ]
    }
   ],
   "source": [
    "movies_df.show(5, False)"
   ]
  },
  {
   "cell_type": "code",
   "execution_count": 33,
   "metadata": {},
   "outputs": [
    {
     "name": "stdout",
     "output_type": "stream",
     "text": [
      "+------------------+-----+\n",
      "|genre             |count|\n",
      "+------------------+-----+\n",
      "|Drama             |4365 |\n",
      "|Comedy            |3315 |\n",
      "|Thriller          |1729 |\n",
      "|Romance           |1545 |\n",
      "|Action            |1545 |\n",
      "|Adventure         |1117 |\n",
      "|Crime             |1100 |\n",
      "|Horror            |877  |\n",
      "|Sci-Fi            |792  |\n",
      "|Fantasy           |654  |\n",
      "|Children          |583  |\n",
      "|Mystery           |543  |\n",
      "|Documentary       |495  |\n",
      "|Animation         |447  |\n",
      "|Musical           |394  |\n",
      "|War               |367  |\n",
      "|Western           |168  |\n",
      "|IMAX              |153  |\n",
      "|Film-Noir         |133  |\n",
      "|(no genres listed)|18   |\n",
      "+------------------+-----+\n",
      "\n"
     ]
    }
   ],
   "source": [
    "genres_df = movies_df \\\n",
    "    .select(\"movieId\", explode(split(\"genres\", \"#\")).alias(\"genre\") ) \\\n",
    "    .groupBy(\"genre\").count() \\\n",
    "    .orderBy(desc(\"count\"))\n",
    "    \n",
    "genres_df.show(20, False)"
   ]
  },
  {
   "cell_type": "code",
   "execution_count": 30,
   "metadata": {},
   "outputs": [
    {
     "data": {
      "text/plain": [
       "20340"
      ]
     },
     "execution_count": 30,
     "metadata": {},
     "output_type": "execute_result"
    }
   ],
   "source": [
    "genres_df.count()"
   ]
  },
  {
   "cell_type": "code",
   "execution_count": null,
   "metadata": {},
   "outputs": [],
   "source": []
  }
 ],
 "metadata": {
  "application/vnd.databricks.v1+notebook": {
   "computePreferences": null,
   "dashboards": [],
   "environmentMetadata": null,
   "inputWidgetPreferences": null,
   "language": "python",
   "notebookMetadata": {
    "mostRecentlyExecutedCommandWithImplicitDF": {
     "commandId": 1707855510997391,
     "dataframes": [
      "_sqldf"
     ]
    },
    "pythonIndentUnit": 4
   },
   "notebookName": "7.Case Study - Movie Data Analysis",
   "widgets": {}
  },
  "kernelspec": {
   "display_name": "Python 3",
   "language": "python",
   "name": "python3"
  },
  "language_info": {
   "codemirror_mode": {
    "name": "ipython",
    "version": 3
   },
   "file_extension": ".py",
   "mimetype": "text/x-python",
   "name": "python",
   "nbconvert_exporter": "python",
   "pygments_lexer": "ipython3",
   "version": "3.6.4"
  }
 },
 "nbformat": 4,
 "nbformat_minor": 1
}
