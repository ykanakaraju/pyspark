{
 "cells": [
  {
   "cell_type": "code",
   "execution_count": null,
   "metadata": {},
   "outputs": [],
   "source": [
    "%run \"./Setup.ipynb\""
   ]
  },
  {
   "cell_type": "code",
   "execution_count": null,
   "metadata": {},
   "outputs": [],
   "source": [
    "spark"
   ]
  },
  {
   "cell_type": "code",
   "execution_count": 3,
   "metadata": {},
   "outputs": [],
   "source": [
    "json_path = \"E:\\\\PySpark\\\\data\\\\users.json\""
   ]
  },
  {
   "cell_type": "code",
   "execution_count": 5,
   "metadata": {},
   "outputs": [
    {
     "data": {
      "text/plain": [
       "pyspark.sql.readwriter.DataFrameReader"
      ]
     },
     "execution_count": 5,
     "metadata": {},
     "output_type": "execute_result"
    }
   ],
   "source": [
    "type(spark.read)"
   ]
  },
  {
   "cell_type": "code",
   "execution_count": 6,
   "metadata": {},
   "outputs": [],
   "source": [
    "#df = spark.read.format(\"json\").load(json_path)\n",
    "df = spark.read.json(json_path)"
   ]
  },
  {
   "cell_type": "code",
   "execution_count": 7,
   "metadata": {},
   "outputs": [
    {
     "data": {
      "text/plain": [
       "[Row(age=25, gender='Male', name='Satya', phone='8501099876', userid=1),\n",
       " Row(age=None, gender='Male', name=None, phone='5676599876', userid=2),\n",
       " Row(age=25, gender='Male', name='Rahim', phone=None, userid=3),\n",
       " Row(age=28, gender='Female', name='Sandra', phone='8508899001', userid=4),\n",
       " Row(age=15, gender='Female', name='Keerti', phone=None, userid=5),\n",
       " Row(age=13, gender='Male', name='Sundar', phone='8522233456', userid=6),\n",
       " Row(age=28, gender='Male', name='Steve', phone='8501085009', userid=7),\n",
       " Row(age=55, gender='Female', name='Smriti', phone='9246655498', userid=8),\n",
       " Row(age=36, gender='Female', name='Veena', phone='8508888888', userid=9),\n",
       " Row(age=15, gender='Female', name='Kriti', phone=None, userid=10),\n",
       " Row(age=13, gender='Male', name='Samuel', phone='8522235624', userid=11),\n",
       " Row(age=28, gender='Male', name='Raghu', phone='8501082222', userid=12),\n",
       " Row(age=55, gender='Female', name='Ramya', phone='9246654658', userid=13),\n",
       " Row(age=31, gender='Female', name='Hasina', phone='8345213235', userid=14),\n",
       " Row(age=37, gender='Female', name='Lasya', phone=None, userid=15),\n",
       " Row(age=13, gender='Male', name='Murugan', phone='8522209563', userid=16),\n",
       " Row(age=31, gender='Male', name='Mukesh', phone='8597638421', userid=17)]"
      ]
     },
     "execution_count": 7,
     "metadata": {},
     "output_type": "execute_result"
    }
   ],
   "source": [
    "df.collect()"
   ]
  },
  {
   "cell_type": "code",
   "execution_count": 10,
   "metadata": {},
   "outputs": [
    {
     "data": {
      "text/plain": [
       "StructType(List(StructField(age,LongType,true),StructField(gender,StringType,true),StructField(name,StringType,true),StructField(phone,StringType,true),StructField(userid,LongType,true)))"
      ]
     },
     "execution_count": 10,
     "metadata": {},
     "output_type": "execute_result"
    }
   ],
   "source": [
    "df.schema"
   ]
  },
  {
   "cell_type": "code",
   "execution_count": 11,
   "metadata": {},
   "outputs": [
    {
     "name": "stdout",
     "output_type": "stream",
     "text": [
      "+----+------+-------+----------+------+\n",
      "| age|gender|   name|     phone|userid|\n",
      "+----+------+-------+----------+------+\n",
      "|  25|  Male|  Satya|8501099876|     1|\n",
      "|null|  Male|   null|5676599876|     2|\n",
      "|  25|  Male|  Rahim|      null|     3|\n",
      "|  28|Female| Sandra|8508899001|     4|\n",
      "|  15|Female| Keerti|      null|     5|\n",
      "|  13|  Male| Sundar|8522233456|     6|\n",
      "|  28|  Male|  Steve|8501085009|     7|\n",
      "|  55|Female| Smriti|9246655498|     8|\n",
      "|  36|Female|  Veena|8508888888|     9|\n",
      "|  15|Female|  Kriti|      null|    10|\n",
      "|  13|  Male| Samuel|8522235624|    11|\n",
      "|  28|  Male|  Raghu|8501082222|    12|\n",
      "|  55|Female|  Ramya|9246654658|    13|\n",
      "|  31|Female| Hasina|8345213235|    14|\n",
      "|  37|Female|  Lasya|      null|    15|\n",
      "|  13|  Male|Murugan|8522209563|    16|\n",
      "|  31|  Male| Mukesh|8597638421|    17|\n",
      "+----+------+-------+----------+------+\n",
      "\n"
     ]
    }
   ],
   "source": [
    "df.show()"
   ]
  },
  {
   "cell_type": "code",
   "execution_count": 12,
   "metadata": {},
   "outputs": [
    {
     "name": "stdout",
     "output_type": "stream",
     "text": [
      "root\n",
      " |-- age: long (nullable = true)\n",
      " |-- gender: string (nullable = true)\n",
      " |-- name: string (nullable = true)\n",
      " |-- phone: string (nullable = true)\n",
      " |-- userid: long (nullable = true)\n",
      "\n"
     ]
    }
   ],
   "source": [
    "df.printSchema()"
   ]
  },
  {
   "cell_type": "code",
   "execution_count": 20,
   "metadata": {},
   "outputs": [
    {
     "name": "stdout",
     "output_type": "stream",
     "text": [
      "+---+-----+\n",
      "|age|count|\n",
      "+---+-----+\n",
      "| 25|    1|\n",
      "| 28|    3|\n",
      "| 13|    3|\n",
      "| 55|    2|\n",
      "| 36|    1|\n",
      "+---+-----+\n",
      "\n"
     ]
    }
   ],
   "source": [
    "df2 = df.select(\"userid\", \"name\", \"age\", \"gender\", \"phone\") \\\n",
    "        .where(\"age is not null and phone is not null\") \\\n",
    "        .orderBy(\"gender\", \"name\") \\\n",
    "        .groupBy(\"age\").count() \\\n",
    "        .limit(5)\n",
    "\n",
    "df2.show()"
   ]
  },
  {
   "cell_type": "code",
   "execution_count": 21,
   "metadata": {},
   "outputs": [
    {
     "data": {
      "text/plain": [
       "<pyspark.sql.catalog.Catalog at 0x23bffe2ce48>"
      ]
     },
     "execution_count": 21,
     "metadata": {},
     "output_type": "execute_result"
    }
   ],
   "source": [
    "spark.catalog"
   ]
  },
  {
   "cell_type": "code",
   "execution_count": null,
   "metadata": {},
   "outputs": [],
   "source": []
  }
 ],
 "metadata": {
  "kernelspec": {
   "display_name": "Python 3",
   "language": "python",
   "name": "python3"
  },
  "language_info": {
   "codemirror_mode": {
    "name": "ipython",
    "version": 3
   },
   "file_extension": ".py",
   "mimetype": "text/x-python",
   "name": "python",
   "nbconvert_exporter": "python",
   "pygments_lexer": "ipython3",
   "version": "3.6.4"
  }
 },
 "nbformat": 4,
 "nbformat_minor": 2
}
