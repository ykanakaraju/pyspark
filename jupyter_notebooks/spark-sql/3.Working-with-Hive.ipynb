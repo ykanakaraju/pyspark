{
 "cells": [
  {
   "cell_type": "code",
   "execution_count": null,
   "metadata": {},
   "outputs": [],
   "source": [
    "import findspark\n",
    "findspark.init()\n",
    "#findspark.find()\n",
    "\n",
    "from os.path import abspath\n",
    "from pyspark.sql import SparkSession\n",
    "from pyspark.sql.functions import *"
   ]
  },
  {
   "cell_type": "code",
   "execution_count": null,
   "metadata": {},
   "outputs": [],
   "source": [
    "warehouse_location = abspath('spark-warehouse')\n",
    "\n",
    "spark = SparkSession \\\n",
    "    .builder \\\n",
    "    .appName(\"Working with Hive\") \\\n",
    "    .config(\"spark.sql.warehouse.dir\", warehouse_location) \\\n",
    "    .enableHiveSupport() \\\n",
    "    .getOrCreate()"
   ]
  },
  {
   "cell_type": "code",
   "execution_count": null,
   "metadata": {},
   "outputs": [],
   "source": [
    "spark.conf.get(\"spark.sql.warehouse.dir\")"
   ]
  },
  {
   "cell_type": "code",
   "execution_count": null,
   "metadata": {},
   "outputs": [],
   "source": [
    "spark.catalog.currentDatabase()"
   ]
  },
  {
   "cell_type": "code",
   "execution_count": null,
   "metadata": {},
   "outputs": [],
   "source": [
    "spark.catalog.listTables() "
   ]
  },
  {
   "cell_type": "code",
   "execution_count": null,
   "metadata": {},
   "outputs": [],
   "source": [
    "spark.sql(\"drop database if exists sparkdemo cascade\")\n",
    "spark.sql(\"create database if not exists sparkdemo\")\n",
    "spark.sql(\"use sparkdemo\")"
   ]
  },
  {
   "cell_type": "code",
   "execution_count": null,
   "metadata": {},
   "outputs": [],
   "source": [
    "spark.sql(\"DROP TABLE IF EXISTS movies\")\n",
    "spark.sql(\"DROP TABLE IF EXISTS ratings\")\n",
    "spark.sql(\"DROP TABLE IF EXISTS topRatedMovies\")"
   ]
  },
  {
   "cell_type": "markdown",
   "metadata": {},
   "source": [
    "### Managed tables using HiveQL"
   ]
  },
  {
   "cell_type": "code",
   "execution_count": null,
   "metadata": {},
   "outputs": [],
   "source": [
    "createMovies = \"\"\"CREATE TABLE IF NOT EXISTS \n",
    "            movies (movieId INT, title STRING, genres STRING) \n",
    "            ROW FORMAT SERDE 'org.apache.hadoop.hive.serde2.OpenCSVSerde'\n",
    "            WITH SERDEPROPERTIES (\n",
    "               'separatorChar' = ',',\n",
    "               'quoteChar'     = '\\\"'\n",
    "            )  \n",
    "            \"\"\"\n",
    "    \n",
    "loadMovies = \"\"\"LOAD DATA LOCAL INPATH 'E:/PySpark/data/movielens/moviesNoHeader.csv' \n",
    "         OVERWRITE INTO TABLE movies\"\"\"\n",
    "    \n",
    "createRatings = \"\"\"CREATE TABLE IF NOT EXISTS \n",
    "             ratings (userId INT, movieId INT, rating DOUBLE, timestamp LONG) \n",
    "             ROW FORMAT SERDE 'org.apache.hadoop.hive.serde2.OpenCSVSerde'\n",
    "                WITH SERDEPROPERTIES (\n",
    "                   'separatorChar' = ',',\n",
    "                   'quoteChar'     = '\\\"'\n",
    "                )  \n",
    "                \"\"\"\n",
    "    \n",
    "loadRatings = \"\"\"LOAD DATA LOCAL INPATH 'E:/PySpark/data/movielens/ratingsNoHeader.csv' \n",
    "         OVERWRITE INTO TABLE ratings\"\"\""
   ]
  },
  {
   "cell_type": "code",
   "execution_count": null,
   "metadata": {},
   "outputs": [],
   "source": [
    "spark.sql(createMovies)\n",
    "spark.sql(loadMovies)\n",
    "spark.sql(createRatings)\n",
    "spark.sql(loadRatings)"
   ]
  },
  {
   "cell_type": "code",
   "execution_count": null,
   "metadata": {},
   "outputs": [],
   "source": [
    "spark.catalog.listTables()"
   ]
  },
  {
   "cell_type": "code",
   "execution_count": null,
   "metadata": {},
   "outputs": [],
   "source": [
    "moviesDF = spark.sql(\"SELECT * FROM movies\")\n",
    "ratingsDF = spark.sql(\"SELECT * FROM ratings\")"
   ]
  },
  {
   "cell_type": "code",
   "execution_count": null,
   "metadata": {},
   "outputs": [],
   "source": [
    "moviesDF.show(5, False)"
   ]
  },
  {
   "cell_type": "code",
   "execution_count": null,
   "metadata": {},
   "outputs": [],
   "source": [
    "ratingsDF.show(5, False)"
   ]
  },
  {
   "cell_type": "code",
   "execution_count": null,
   "metadata": {},
   "outputs": [],
   "source": [
    "summaryDf = ratingsDF \\\n",
    "            .groupBy(\"movieId\") \\\n",
    "            .agg(count(\"rating\").alias(\"ratingCount\"), avg(\"rating\").alias(\"ratingAvg\")) \\\n",
    "            .filter(\"ratingCount > 25\") \\\n",
    "            .orderBy(desc(\"ratingAvg\")) \\\n",
    "            .limit(10)\n",
    "            \n",
    "summaryDf.show(10, False)"
   ]
  },
  {
   "cell_type": "code",
   "execution_count": null,
   "metadata": {},
   "outputs": [],
   "source": [
    "summaryDf2 = summaryDf.join(moviesDF, summaryDf[\"movieId\"] == moviesDF[\"movieId\"]) \\\n",
    "                .drop(summaryDf[\"movieId\"]) \\\n",
    "                .select(\"movieId\", \"title\", \"ratingCount\", \"ratingAvg\") \\\n",
    "                .orderBy(desc(\"ratingAvg\")) \\\n",
    "                .coalesce(1)\n",
    "    \n",
    "summaryDf2.show(10, False)"
   ]
  },
  {
   "cell_type": "code",
   "execution_count": null,
   "metadata": {},
   "outputs": [],
   "source": [
    "summaryDf2.write \\\n",
    "   .mode(\"overwrite\") \\\n",
    "   .format(\"csv\") \\\n",
    "   .option(\"header\", True) \\\n",
    "   .saveAsTable(\"topRatedMovies\")"
   ]
  },
  {
   "cell_type": "code",
   "execution_count": null,
   "metadata": {},
   "outputs": [],
   "source": [
    "spark.catalog.listTables()"
   ]
  },
  {
   "cell_type": "code",
   "execution_count": null,
   "metadata": {},
   "outputs": [],
   "source": [
    "dtopratedmoviesDf = spark.sql(\"SELECT * FROM topratedmovies\")\n",
    "dtopratedmoviesDf.show(10, False)"
   ]
  },
  {
   "cell_type": "markdown",
   "metadata": {},
   "source": [
    "### External tables"
   ]
  },
  {
   "cell_type": "code",
   "execution_count": null,
   "metadata": {},
   "outputs": [],
   "source": [
    "summaryDf2.write \\\n",
    "    .mode(\"overwrite\") \\\n",
    "    .format(\"csv\") \\\n",
    "    .option(\"header\", True) \\\n",
    "    .option(\"path\", \"E:\\\\PySpark\\\\external\\\\topRatedMoviesExt\") \\\n",
    "    .saveAsTable(\"topratedmoviesext\")"
   ]
  },
  {
   "cell_type": "code",
   "execution_count": null,
   "metadata": {},
   "outputs": [],
   "source": [
    "spark.catalog.listTables()"
   ]
  },
  {
   "cell_type": "code",
   "execution_count": null,
   "metadata": {},
   "outputs": [],
   "source": [
    "spark.sql(\"SELECT * FROM topratedmoviesext\").show()"
   ]
  },
  {
   "cell_type": "code",
   "execution_count": null,
   "metadata": {},
   "outputs": [],
   "source": [
    "# Drop an external table\n",
    "spark.sql(\"DROP TABLE IF EXISTS topratedmoviesext\")"
   ]
  },
  {
   "cell_type": "code",
   "execution_count": null,
   "metadata": {},
   "outputs": [],
   "source": [
    "spark.catalog.listTables()"
   ]
  },
  {
   "cell_type": "code",
   "execution_count": null,
   "metadata": {},
   "outputs": [],
   "source": [
    "spark.sql(\"SELECT * FROM topratedmoviesext\").show()"
   ]
  },
  {
   "cell_type": "markdown",
   "metadata": {},
   "source": [
    "### Recreating table from exisitng data"
   ]
  },
  {
   "cell_type": "code",
   "execution_count": 49,
   "metadata": {},
   "outputs": [],
   "source": [
    "createExternalTable = \"\"\"CREATE EXTERNAL TABLE IF NOT EXISTS \n",
    "            topratedmoviesext (movieId INT,title STRING, ratingCount INT, ratingAvg DOUBLE) \n",
    "            ROW FORMAT SERDE 'org.apache.hadoop.hive.serde2.OpenCSVSerde'\n",
    "            WITH SERDEPROPERTIES (\n",
    "               'separatorChar' = ',',\n",
    "               'quoteChar'     = '\\\"'\n",
    "            )  \n",
    "            LOCATION 'E:/PySpark/external/topRatedMoviesExt'\"\"\""
   ]
  },
  {
   "cell_type": "code",
   "execution_count": 52,
   "metadata": {},
   "outputs": [
    {
     "data": {
      "text/plain": [
       "DataFrame[]"
      ]
     },
     "execution_count": 52,
     "metadata": {},
     "output_type": "execute_result"
    }
   ],
   "source": [
    "spark.sql(createExternalTable)"
   ]
  },
  {
   "cell_type": "code",
   "execution_count": 53,
   "metadata": {},
   "outputs": [
    {
     "data": {
      "text/plain": [
       "[Table(name='movies', database='sparkdemo', description=None, tableType='MANAGED', isTemporary=False),\n",
       " Table(name='ratings', database='sparkdemo', description=None, tableType='MANAGED', isTemporary=False),\n",
       " Table(name='topratedmovies', database='sparkdemo', description=None, tableType='MANAGED', isTemporary=False),\n",
       " Table(name='topratedmoviesext', database='sparkdemo', description=None, tableType='EXTERNAL', isTemporary=False)]"
      ]
     },
     "execution_count": 53,
     "metadata": {},
     "output_type": "execute_result"
    }
   ],
   "source": [
    "spark.catalog.listTables()"
   ]
  },
  {
   "cell_type": "code",
   "execution_count": 54,
   "metadata": {},
   "outputs": [
    {
     "name": "stdout",
     "output_type": "stream",
     "text": [
      "+-------+--------------------+-----------+-----------------+\n",
      "|movieid|               title|ratingcount|        ratingavg|\n",
      "+-------+--------------------+-----------+-----------------+\n",
      "|movieId|               title|ratingCount|        ratingAvg|\n",
      "|    858|Godfather, The (1...|        200|           4.4875|\n",
      "|    318|Shawshank Redempt...|        311|4.487138263665595|\n",
      "|   1945|On the Waterfront...|         29|4.448275862068965|\n",
      "|    926|All About Eve (1950)|         38|4.434210526315789|\n",
      "|   1217|          Ran (1985)|         26|4.423076923076923|\n",
      "|    969|African Queen, Th...|         50|             4.42|\n",
      "|   2064|   Roger & Me (1989)|         42|4.392857142857143|\n",
      "|    913|Maltese Falcon, T...|         62|4.387096774193548|\n",
      "|   1221|Godfather: Part I...|        135|4.385185185185185|\n",
      "|     50|Usual Suspects, T...|        201|4.370646766169155|\n",
      "+-------+--------------------+-----------+-----------------+\n",
      "\n"
     ]
    }
   ],
   "source": [
    "spark.table(\"topratedmoviesext\").show()"
   ]
  },
  {
   "cell_type": "code",
   "execution_count": 55,
   "metadata": {},
   "outputs": [
    {
     "data": {
      "text/plain": [
       "DataFrame[]"
      ]
     },
     "execution_count": 55,
     "metadata": {},
     "output_type": "execute_result"
    }
   ],
   "source": [
    "spark.sql(\"drop database if exists sparkdemo cascade\")"
   ]
  },
  {
   "cell_type": "code",
   "execution_count": null,
   "metadata": {},
   "outputs": [],
   "source": []
  }
 ],
 "metadata": {
  "kernelspec": {
   "display_name": "Python 3",
   "language": "python",
   "name": "python3"
  },
  "language_info": {
   "codemirror_mode": {
    "name": "ipython",
    "version": 3
   },
   "file_extension": ".py",
   "mimetype": "text/x-python",
   "name": "python",
   "nbconvert_exporter": "python",
   "pygments_lexer": "ipython3",
   "version": "3.6.4"
  }
 },
 "nbformat": 4,
 "nbformat_minor": 2
}
